{
  "cells": [
    {
      "cell_type": "code",
      "execution_count": 1,
      "metadata": {
        "colab": {
          "base_uri": "https://localhost:8080/"
        },
        "id": "SDe5C8jwk5e3",
        "outputId": "02cc16b5-d0b0-4498-b133-d433a5d166b1"
      },
      "outputs": [
        {
          "name": "stdout",
          "output_type": "stream",
          "text": [
            "Wed Apr 27 22:33:15 2022       \n",
            "+-----------------------------------------------------------------------------+\n",
            "| NVIDIA-SMI 510.47.03    Driver Version: 511.65       CUDA Version: 11.6     |\n",
            "|-------------------------------+----------------------+----------------------+\n",
            "| GPU  Name        Persistence-M| Bus-Id        Disp.A | Volatile Uncorr. ECC |\n",
            "| Fan  Temp  Perf  Pwr:Usage/Cap|         Memory-Usage | GPU-Util  Compute M. |\n",
            "|                               |                      |               MIG M. |\n",
            "|===============================+======================+======================|\n",
            "|   0  NVIDIA GeForce ...  On   | 00000000:01:00.0 Off |                  N/A |\n",
            "| N/A   39C    P8     1W /  N/A |      0MiB /  4096MiB |      0%      Default |\n",
            "|                               |                      |                  N/A |\n",
            "+-------------------------------+----------------------+----------------------+\n",
            "                                                                               \n",
            "+-----------------------------------------------------------------------------+\n",
            "| Processes:                                                                  |\n",
            "|  GPU   GI   CI        PID   Type   Process name                  GPU Memory |\n",
            "|        ID   ID                                                   Usage      |\n",
            "|=============================================================================|\n",
            "|  No running processes found                                                 |\n",
            "+-----------------------------------------------------------------------------+\n"
          ]
        }
      ],
      "source": [
        "!nvidia-smi"
      ]
    },
    {
      "cell_type": "code",
      "execution_count": 2,
      "metadata": {
        "colab": {
          "base_uri": "https://localhost:8080/"
        },
        "id": "xfDxSvNEpl_R",
        "outputId": "df6db7fa-76b5-4452-eb82-822daaa19f4e"
      },
      "outputs": [
        {
          "name": "stdout",
          "output_type": "stream",
          "text": [
            "Your runtime has 8.0 gigabytes of available RAM\n",
            "\n",
            "To enable a high-RAM runtime, select the Runtime > \"Change runtime type\"\n",
            "menu, and then select High-RAM in the Runtime shape dropdown. Then, \n",
            "re-execute this cell.\n"
          ]
        }
      ],
      "source": [
        "from psutil import virtual_memory\n",
        "ram_gb = virtual_memory().total / 1e9\n",
        "print('Your runtime has {:.1f} gigabytes of available RAM\\n'.format(ram_gb))\n",
        "\n",
        "if ram_gb < 20:\n",
        "  print('To enable a high-RAM runtime, select the Runtime > \"Change runtime type\"')\n",
        "  print('menu, and then select High-RAM in the Runtime shape dropdown. Then, ')\n",
        "  print('re-execute this cell.')\n",
        "else:\n",
        "  print('You are using a high-RAM runtime!')"
      ]
    },
    {
      "cell_type": "code",
      "execution_count": 3,
      "metadata": {
        "id": "kNrs7vZwSNTS"
      },
      "outputs": [],
      "source": [
        "# !mkdir ./content/saved_models"
      ]
    },
    {
      "cell_type": "markdown",
      "metadata": {
        "id": "4DW6a6Y8hWtT"
      },
      "source": [
        "# Imports and Utility functions"
      ]
    },
    {
      "cell_type": "code",
      "execution_count": 4,
      "metadata": {
        "id": "caWtyJW40H3k"
      },
      "outputs": [],
      "source": [
        "#!pip3 install tensorboard --upgrade"
      ]
    },
    {
      "cell_type": "code",
      "execution_count": 5,
      "metadata": {
        "id": "yQrK-eB3mBAC"
      },
      "outputs": [],
      "source": [
        "import numpy as np\n",
        "import pandas as pd\n",
        "import shutil, time, os, requests, random, copy\n",
        "from itertools import permutations \n",
        "import seaborn as sns\n",
        "import imageio\n",
        "from skimage.transform import rotate, AffineTransform, warp, resize\n",
        "#import skvideo.io as vidio\n",
        "#from google.colab.patches import cv2_imshow\n",
        "from IPython.display import clear_output, Image, SVG\n",
        "import h5py\n",
        "#from tabulate import tabulate\n",
        "\n",
        "import torch\n",
        "import torch.nn as nn\n",
        "import torch.nn.functional as tF\n",
        "import torch.optim as optim\n",
        "from torch.utils.data import Dataset, DataLoader\n",
        "import torchvision.datasets as dset\n",
        "from torchvision import transforms, models\n",
        "#from torchviz import make_dot\n",
        "#from torchsummary import summary\n",
        "\n",
        "from sklearn.utils import shuffle\n",
        "from sklearn.metrics import classification_report, confusion_matrix, roc_curve, auc, f1_score\n",
        "from sklearn.metrics import average_precision_score, precision_recall_curve, roc_auc_score, accuracy_score\n",
        "from sklearn.utils.class_weight import compute_class_weight\n",
        "from sklearn.model_selection import train_test_split\n",
        "from sklearn.manifold import TSNE\n",
        "\n",
        "from torch.hub import load_state_dict_from_url\n",
        "from typing import Type, Any, Callable, Union, List, Optional\n",
        "from torch import Tensor\n",
        "from collections import OrderedDict \n",
        "\n",
        "import matplotlib.pyplot as plt\n",
        "#import matplotlib.animation as animation\n",
        "%matplotlib inline"
      ]
    },
    {
      "cell_type": "code",
      "execution_count": 6,
      "metadata": {
        "id": "zziaDy3rpl_T"
      },
      "outputs": [],
      "source": [
        "def set_seed(seed = 42):\n",
        "    np.random.seed(seed)\n",
        "    torch.manual_seed(seed)\n",
        "set_seed(42)"
      ]
    },
    {
      "cell_type": "markdown",
      "metadata": {
        "id": "qhz7ofsF1QoX"
      },
      "source": [
        "Make some directory"
      ]
    },
    {
      "cell_type": "code",
      "execution_count": 7,
      "metadata": {
        "colab": {
          "base_uri": "https://localhost:8080/"
        },
        "id": "JJONIwKjpl_X",
        "outputId": "e0a54c86-f3b9-469a-e9c5-500e3bc735c5"
      },
      "outputs": [
        {
          "name": "stdout",
          "output_type": "stream",
          "text": [
            "--2022-04-27 22:33:20--  https://www.cs.toronto.edu/~kriz/cifar-10-python.tar.gz\n",
            "Resolving www.cs.toronto.edu (www.cs.toronto.edu)... 128.100.3.30, 128.100.1.1, 128.100.72.168, ...\n",
            "Connecting to www.cs.toronto.edu (www.cs.toronto.edu)|128.100.3.30|:443... connected.\n",
            "HTTP request sent, awaiting response... 200 OK\n",
            "Length: 170498071 (163M) [application/x-gzip]\n",
            "Saving to: ‘cifar-10-python.tar.gz.2’\n",
            "\n",
            "cifar-10-python.tar   0%[                    ] 824.00K   139KB/s    eta 25m 14s^C\n"
          ]
        }
      ],
      "source": [
        "# !wget https://www.cs.toronto.edu/~kriz/cifar-10-python.tar.gz"
      ]
    },
    {
      "cell_type": "code",
      "execution_count": 8,
      "metadata": {},
      "outputs": [
        {
          "name": "stdout",
          "output_type": "stream",
          "text": [
            " Autoencoder.ipynb\t   'Validation with TensorBoard.ipynb'\n",
            " CIFAR10.ipynb\t\t    cifar-10-python.tar.gz\n",
            " GAN\t\t\t    cifar-10-python.tar.gz.1\n",
            " GAN.ipynb\t\t    cifar-10-python.tar.gz.2\n",
            "'Model Exploration.ipynb'   content\n",
            " SCAN.ipynb\t\t    model\n",
            " SImCLR_cifar10.ipynb\t    runs\n",
            " SimCLR.ipynb\n"
          ]
        }
      ],
      "source": [
        "# !ls"
      ]
    },
    {
      "cell_type": "code",
      "execution_count": 9,
      "metadata": {},
      "outputs": [
        {
          "name": "stdout",
          "output_type": "stream",
          "text": [
            "mkdir: cannot create directory ‘content’: File exists\n"
          ]
        }
      ],
      "source": [
        "# !mkdir content"
      ]
    },
    {
      "cell_type": "code",
      "execution_count": 10,
      "metadata": {
        "id": "8sbhYkUDMnon"
      },
      "outputs": [
        {
          "name": "stdout",
          "output_type": "stream",
          "text": [
            "cifar-10-batches-py/\n",
            "cifar-10-batches-py/data_batch_4\n",
            "cifar-10-batches-py/readme.html\n",
            "cifar-10-batches-py/test_batch\n",
            "cifar-10-batches-py/data_batch_3\n",
            "cifar-10-batches-py/batches.meta\n",
            "cifar-10-batches-py/data_batch_2\n",
            "cifar-10-batches-py/data_batch_5\n",
            "cifar-10-batches-py/data_batch_1\n"
          ]
        }
      ],
      "source": [
        "# !tar -xvf cifar-10-python.tar.gz -C content"
      ]
    },
    {
      "cell_type": "markdown",
      "metadata": {},
      "source": [
        "# Utilities"
      ]
    },
    {
      "cell_type": "code",
      "execution_count": 11,
      "metadata": {},
      "outputs": [],
      "source": [
        "import pickle\n",
        "def unpickle(file):\n",
        "    with open(file, \"rb\") as f:\n",
        "        dict = pickle.load(f, encoding=\"bytes\")\n",
        "    return dict"
      ]
    },
    {
      "cell_type": "markdown",
      "metadata": {},
      "source": [
        "## Metrics"
      ]
    },
    {
      "cell_type": "code",
      "execution_count": 12,
      "metadata": {},
      "outputs": [],
      "source": [
        "def TP(y, pred, th=0.5):\n",
        "    pred_t = (pred > th)\n",
        "    return np.sum((pred_t == True) & (y == 1))\n",
        "\n",
        "\n",
        "def TN(y, pred, th=0.5):\n",
        "    pred_t = (pred > th)\n",
        "    return np.sum((pred_t == False) & (y == 0))\n",
        "\n",
        "\n",
        "def FN(y, pred, th=0.5):\n",
        "    pred_t = (pred > th)\n",
        "    return np.sum((pred_t == False) & (y == 1))\n",
        "\n",
        "def FP(y, pred, th=0.5):\n",
        "    pred_t = (pred > th)\n",
        "    return np.sum((pred_t == True) & (y == 0))"
      ]
    },
    {
      "cell_type": "markdown",
      "metadata": {},
      "source": [
        "Accuracy"
      ]
    },
    {
      "cell_type": "code",
      "execution_count": 13,
      "metadata": {
        "id": "kpT8np6skUH5"
      },
      "outputs": [],
      "source": [
        "def get_accuracy(y, pred, th=0.5):\n",
        "    tp = TP(y,pred,th)\n",
        "    fp = FP(y,pred,th)\n",
        "    tn = TN(y,pred,th)\n",
        "    fn = FN(y,pred,th)\n",
        "    return (tp+tn)/(tp+fp+tn+fn)\n",
        "\n",
        "def get_prevalence(y):\n",
        "    return np.sum(y)/y.shape[0]\n",
        "\n",
        "def sensitivity(y, pred, th=0.5):\n",
        "    tp = TP(y,pred,th)\n",
        "    fn = FN(y,pred,th)\n",
        "    return tp/(tp+fn)\n",
        "\n",
        "def specificity(y, pred, th=0.5):\n",
        "    tn = TN(y,pred,th)\n",
        "    fp = FP(y,pred,th)\n",
        "    return tn/(tn+fp)\n",
        "\n",
        "def get_ppv(y, pred, th=0.5):\n",
        "    tp = TP(y,pred,th)\n",
        "    fp = FP(y,pred,th)\n",
        "    \n",
        "    return tp/(tp+fp)\n",
        "\n",
        "def get_npv(y, pred, th=0.5):\n",
        "    tn = TN(y,pred,th)\n",
        "    fn = FN(y,pred,th)\n",
        "    return tn/(tn+fn)"
      ]
    },
    {
      "cell_type": "markdown",
      "metadata": {},
      "source": [
        "Performance"
      ]
    },
    {
      "cell_type": "code",
      "execution_count": 14,
      "metadata": {},
      "outputs": [],
      "source": [
        "def get_performance_metrics(y, pred, class_labels, tp=TP,\n",
        "                            tn=TN, fp=FP,\n",
        "                            fn=FN,\n",
        "                            acc=get_accuracy, prevalence=get_prevalence, \n",
        "                            spec=specificity,sens=sensitivity, ppv=get_ppv, \n",
        "                            npv=get_npv, auc=roc_auc_score, f1=f1_score,\n",
        "                            thresholds=[]):\n",
        "    if len(thresholds) != len(class_labels):\n",
        "        thresholds = [.5] * len(class_labels)\n",
        "\n",
        "    columns = [\"Injury\", \"TP\", \"TN\", \"FP\", \"FN\", \"Accuracy\", \"Prevalence\",\n",
        "               \"Sensitivity\",\n",
        "               \"Specificity\", \"PPV\", \"NPV\", \"AUC\", \"F1\", \"Threshold\"]\n",
        "    df = pd.DataFrame(columns=columns)\n",
        "    for i in range(len(class_labels)):\n",
        "        df.loc[i] = [class_labels[i],\n",
        "                     round(tp(y[:, i], pred[:, i]),3),\n",
        "                     round(tn(y[:, i], pred[:, i]),3),\n",
        "                     round(fp(y[:, i], pred[:, i]),3),\n",
        "                     round(fn(y[:, i], pred[:, i]),3),\n",
        "                     round(acc(y[:, i], pred[:, i], thresholds[i]),3),\n",
        "                     round(prevalence(y[:, i]),3),\n",
        "                     round(sens(y[:, i], pred[:, i], thresholds[i]),3),\n",
        "                     round(spec(y[:, i], pred[:, i], thresholds[i]),3),\n",
        "                     round(ppv(y[:, i], pred[:, i], thresholds[i]),3),\n",
        "                     round(npv(y[:, i], pred[:, i], thresholds[i]),3),\n",
        "                     round(auc(y[:, i], pred[:, i]),3),\n",
        "                     round(f1(y[:, i], pred[:, i] > thresholds[i]),3),\n",
        "                     round(thresholds[i], 3)]\n",
        "\n",
        "    df = df.set_index(\"Injury\")\n",
        "    return df"
      ]
    },
    {
      "cell_type": "markdown",
      "metadata": {},
      "source": [
        "Bootstrap"
      ]
    },
    {
      "cell_type": "code",
      "execution_count": 15,
      "metadata": {},
      "outputs": [],
      "source": [
        "def bootstrap_metric(y, pred, classes, metric='auc',bootstraps = 100, fold_size = 1000):\n",
        "    statistics = np.zeros((len(classes), bootstraps))\n",
        "    if metric=='AUC':\n",
        "        metric_func = roc_auc_score\n",
        "    if metric=='Sensitivity':\n",
        "        metric_func = sensitivity\n",
        "    if metric=='Specificity':\n",
        "        metric_func = specificity\n",
        "    if metric=='Accuracy':\n",
        "        metric_func = get_accuracy\n",
        "    for c in range(len(classes)):\n",
        "        df = pd.DataFrame(columns=['y', 'pred'])\n",
        "        df.loc[:, 'y'] = y[:, c]\n",
        "        df.loc[:, 'pred'] = pred[:, c]\n",
        "        # get positive examples for stratified sampling\n",
        "        df_pos = df[df.y == 1]\n",
        "        df_neg = df[df.y == 0]\n",
        "        prevalence = len(df_pos) / len(df)\n",
        "        for i in range(bootstraps):\n",
        "            # stratified sampling of positive and negative examples\n",
        "            pos_sample = df_pos.sample(n = int(fold_size * prevalence), replace=True)\n",
        "            neg_sample = df_neg.sample(n = int(fold_size * (1-prevalence)), replace=True)\n",
        "\n",
        "            y_sample = np.concatenate([pos_sample.y.values, neg_sample.y.values])\n",
        "            pred_sample = np.concatenate([pos_sample.pred.values, neg_sample.pred.values])\n",
        "            score = metric_func(y_sample, pred_sample)\n",
        "            statistics[c][i] = score\n",
        "    return statistics"
      ]
    },
    {
      "cell_type": "markdown",
      "metadata": {},
      "source": [
        "Confident interval"
      ]
    },
    {
      "cell_type": "code",
      "execution_count": 16,
      "metadata": {},
      "outputs": [],
      "source": [
        "def get_confidence_intervals(y,pred,class_labels):\n",
        "    metric_dfs = {}\n",
        "    for metric in ['AUC','Sensitivity','Specificity','Accuracy']:\n",
        "        statistics = bootstrap_metric(y,pred,class_labels,metric)\n",
        "        df = pd.DataFrame(columns=[\"Mean \"+metric+\" (CI 5%-95%)\"])\n",
        "        for i in range(len(class_labels)):\n",
        "            mean = statistics.mean(axis=1)[i]\n",
        "            max_ = np.quantile(statistics, .95, axis=1)[i]\n",
        "            min_ = np.quantile(statistics, .05, axis=1)[i]\n",
        "            df.loc[class_labels[i]] = [\"%.2f (%.2f-%.2f)\" % (mean, min_, max_)]\n",
        "        metric_dfs[metric] = df\n",
        "    return metric_dfs"
      ]
    },
    {
      "cell_type": "markdown",
      "metadata": {
        "id": "qQJUoL4zuNYJ"
      },
      "source": [
        "## Plotting"
      ]
    },
    {
      "cell_type": "markdown",
      "metadata": {
        "id": "wkLyllF2kUH8"
      },
      "source": [
        "#### Accuracy"
      ]
    },
    {
      "cell_type": "code",
      "execution_count": 17,
      "metadata": {
        "id": "8c0xP0kZNN84"
      },
      "outputs": [],
      "source": [
        "def plot_accuracy(tr_acc,val_acc):\n",
        "    # Plot training & validation accuracy values\n",
        "    plt.plot(tr_acc)\n",
        "    plt.plot(val_acc)\n",
        "    plt.title('Model accuracy',fontsize=10)\n",
        "    plt.ylabel('Accuracy',fontsize=10)\n",
        "    plt.xlabel('Epoch',fontsize=10)\n",
        "    plt.tick_params(axis='both', which='major', labelsize=10)\n",
        "    plt.legend(['Train', 'Validation'], loc='upper left',prop={'size': 10})\n",
        "    plt.savefig('accuracy_plot.png')\n",
        "    plt.show()"
      ]
    },
    {
      "cell_type": "markdown",
      "metadata": {
        "id": "aI_hg4wXkUH-"
      },
      "source": [
        "#### Loss"
      ]
    },
    {
      "cell_type": "code",
      "execution_count": 18,
      "metadata": {
        "id": "pOhp8lNpNOsb"
      },
      "outputs": [],
      "source": [
        "def plot_loss(tr_loss,val_loss):\n",
        "    # Plot training & validation loss values\n",
        "    plt.plot(tr_loss)\n",
        "    plt.plot(val_loss)\n",
        "    plt.title('Model loss',fontsize=10)\n",
        "    plt.ylabel('Loss',fontsize=10)\n",
        "    plt.xlabel('Epoch',fontsize=10)\n",
        "    plt.tick_params(axis='both', which='major', labelsize=10)\n",
        "    plt.legend(['Train', 'Validation'], loc='upper left',prop={'size': 10})\n",
        "    plt.savefig('loss_plot.png')\n",
        "    plt.show()"
      ]
    },
    {
      "cell_type": "markdown",
      "metadata": {
        "id": "Bopi6WMmkUIA"
      },
      "source": [
        "#### ROC"
      ]
    },
    {
      "cell_type": "code",
      "execution_count": 19,
      "metadata": {
        "id": "TRMFODDikUIB"
      },
      "outputs": [],
      "source": [
        "def get_roc_curve(gt, pred, target_names):\n",
        "    for i in range(len(target_names)):\n",
        "        curve_function = roc_curve\n",
        "        auc_roc = roc_auc_score(gt[:, i], pred[:, i])\n",
        "        label = str(target_names[i]) + \" AUC: %.3f \" % auc_roc\n",
        "        xlabel = \"False positive rate\"\n",
        "        ylabel = \"True positive rate\"\n",
        "        a, b, _ = curve_function(gt[:, i], pred[:, i])\n",
        "        plt.figure(1, figsize=(7, 7))\n",
        "        plt.plot([0, 1], [0, 1], 'k--')\n",
        "        plt.plot(a, b, label=label)\n",
        "        plt.xlabel(xlabel)\n",
        "        plt.ylabel(ylabel)\n",
        "        plt.legend(loc='upper center', bbox_to_anchor=(1.3, 1),\n",
        "                       fancybox=True, ncol=1)\n",
        "        plt.savefig('ROC_Curve.png')\n",
        "        plt.show()"
      ]
    },
    {
      "cell_type": "markdown",
      "metadata": {
        "id": "DBxj7WvNkUIC"
      },
      "source": [
        "#### Precision and Recall"
      ]
    },
    {
      "cell_type": "code",
      "execution_count": 20,
      "metadata": {
        "id": "Inw3SVknkUID"
      },
      "outputs": [],
      "source": [
        "def get_PR_curve(gt, pred, target_names):\n",
        "    for i in range(len(target_names)):\n",
        "        precision, recall, _ = precision_recall_curve(gt[:, i], pred[:, i])\n",
        "        average_precision = average_precision_score(gt[:, i], pred[:, i])\n",
        "        label = str(target_names[i]) + \" Avg.: %.3f \" % average_precision\n",
        "        plt.figure(1, figsize=(7, 7))\n",
        "        plt.step(recall, precision, where='post', label=label)\n",
        "        plt.xlabel('Recall')\n",
        "        plt.ylabel('Precision')\n",
        "        plt.ylim([0.0, 1.05])\n",
        "        plt.xlim([0.0, 1.0])\n",
        "        plt.legend(loc='upper center', bbox_to_anchor=(1.3, 1),\n",
        "                       fancybox=True, ncol=1)\n",
        "        plt.savefig('Precision_and_Recall_curve.png')\n",
        "        plt.show()"
      ]
    },
    {
      "cell_type": "markdown",
      "metadata": {
        "id": "sz7kNHQxkUIE"
      },
      "source": [
        "#### Confusion Matrix"
      ]
    },
    {
      "cell_type": "code",
      "execution_count": 21,
      "metadata": {
        "id": "mviMdmIlkUIG"
      },
      "outputs": [],
      "source": [
        "def plot_confusion_matrix(y_true,y_pred,class_labels):\n",
        "    cm = confusion_matrix(y_true, y_pred, labels=class_labels)\n",
        "    cm_sum = np.sum(cm, axis=1, keepdims=True)\n",
        "    cm_perc = cm / cm_sum.astype(float) * 100\n",
        "    annot = np.empty_like(cm).astype(str)\n",
        "    nrows, ncols = cm.shape\n",
        "    for i in range(nrows):\n",
        "        for j in range(ncols):\n",
        "            c = cm[i, j]\n",
        "            p = cm_perc[i, j]\n",
        "            if i == j:\n",
        "                s = cm_sum[i]\n",
        "                annot[i, j] = '%.1f%%\\n%d/%d' % (p, c, s)\n",
        "            elif c == 0:\n",
        "                annot[i, j] = ''\n",
        "            else:\n",
        "                annot[i, j] = '%.1f%%\\n%d' % (p, c)\n",
        "    cm = pd.DataFrame(cm, index=class_labels, columns=class_labels)\n",
        "    cm.index.name = 'Actual'\n",
        "    cm.columns.name = 'Predicted'\n",
        "    fig, ax = plt.subplots(figsize=(60,60))\n",
        "    sns.set(font_scale=3.0) # Adjust to fit\n",
        "    sns.heatmap(cm, cmap= \"YlGnBu\", annot=annot, fmt='', ax=ax)\n",
        "    ax.tick_params(axis='both', which='major', labelsize=10)  # Adjust to fit\n",
        "    ax.xaxis.set_ticklabels(class_labels)\n",
        "    ax.yaxis.set_ticklabels(class_labels)\n",
        "    fig.savefig('Confusion_Matrix.png')\n",
        "    plt.show()"
      ]
    },
    {
      "cell_type": "markdown",
      "metadata": {
        "id": "AZTz4lvkkUII"
      },
      "source": [
        "#### Performance Metrics with Errorbars"
      ]
    },
    {
      "cell_type": "code",
      "execution_count": 22,
      "metadata": {
        "id": "i611AmBdkUII"
      },
      "outputs": [],
      "source": [
        "#04_03_Errorbar.ipynb\n",
        "def plot_perf_metrics_errbars(y,pred,class_labels):\n",
        "    metric_dfs = get_confidence_intervals(y,pred,class_labels)\n",
        "    metrics = metric_dfs.keys()\n",
        "    fig,axs = plt.subplots(len(metrics),1,sharey=True)\n",
        "    for i in range(len(metrics)):\n",
        "        ci = metric_dfs[metrics][['Mean '+metrics[i]+' (CI 5%-95%)']].values\n",
        "        ci_mean,ci_ints = np.array([c[0].split(' ') for c in ci]).T\n",
        "        ci_mean = ci_mean.astype(float)\n",
        "        ci_min,ci_max = np.array([ci_ints.strip('()').split('-')]).astype(float)\n",
        "        ci_err = (ci_max-ci_min)/2\n",
        "        \n",
        "        axs[i].errorbar(class_labels,ci_mean,yerr=ci_err,capsize=5,fmt='dk')\n",
        "        axs[i].set_ylabel(metrics[i])\n",
        "    fig.savefig('Performance_Metrics_95percentCI.png')\n",
        "    plt.show()"
      ]
    },
    {
      "cell_type": "markdown",
      "metadata": {},
      "source": [
        "plot_features"
      ]
    },
    {
      "cell_type": "code",
      "execution_count": 23,
      "metadata": {
        "id": "oz09Sza8pl_n"
      },
      "outputs": [],
      "source": [
        "def plot_features(model, num_classes, num_feats, batch_size, vdl):\n",
        "    feats = np.array([]).reshape((0,num_feats))\n",
        "    model.eval()\n",
        "    with torch.no_grad():\n",
        "        for x1, _ in vdl:\n",
        "            x1 = x1.squeeze().to(device = 'cuda:0', dtype = torch.float)#.view((-1,3,224,224))\n",
        "            #y = y.to(device = 'cuda:0')#.view((-1,1))\n",
        "            out = model(x1)\n",
        "            out = out.cpu().numpy()#.reshape((1,-1))\n",
        "            feats = np.append(feats,out,axis = 0)\n",
        "    \n",
        "    tsne = TSNE(n_components = 2, perplexity = 50)\n",
        "    x_feats = tsne.fit_transform(feats)\n",
        "    #plt.scatter(x_feats[:,1],x_feats[:,0])\n",
        "    num_samples = int(batch_size*(val_images.shape[0]//batch_size))#(len(val_df)\n",
        "    \n",
        "    for i in range(num_classes):\n",
        "        #plt.scatter(x_feats[val_df['class'].iloc[:num_samples].values==i,1],x_feats[val_df['class'].iloc[:num_samples].values==i,0])\n",
        "        plt.scatter(x_feats[val_labels[:num_samples]==i,1],x_feats[val_labels[:num_samples]==i,0])\n",
        "    \n",
        "    plt.legend([str(i) for i in range(num_classes)])\n",
        "    plt.show()"
      ]
    },
    {
      "cell_type": "markdown",
      "metadata": {},
      "source": [
        "## Augmentation"
      ]
    },
    {
      "cell_type": "markdown",
      "metadata": {
        "id": "GGxeZGL5pl_f"
      },
      "source": [
        "Cutout"
      ]
    },
    {
      "cell_type": "code",
      "execution_count": 24,
      "metadata": {
        "id": "Uevy4eqIpl_f"
      },
      "outputs": [],
      "source": [
        "class Cutout(nn.Module):\n",
        "    def __init__(self, seed = 0):\n",
        "        self.seed = seed\n",
        "        \n",
        "    def get_start_index(self,L):\n",
        "        return np.random.randint(L)\n",
        "    \n",
        "    def __call__(self,frame):\n",
        "        channels, h, w = frame.shape\n",
        "        #print(frames.shape)\n",
        "        size = h//4\n",
        "        n_squares = np.random.randint(1,3,1)[0]\n",
        "        new_image = frame\n",
        "        for _ in range(n_squares):\n",
        "            y = np.clip(self.get_start_index(h), size // 2, h - size//2)\n",
        "            x = np.clip(self.get_start_index(w), size // 2, w - size//2)\n",
        "            \n",
        "            y1 = np.clip(y - size // 2, 0, h)\n",
        "            y2 = np.clip(y + size // 2, 0, h)\n",
        "            x1 = np.clip(x - size // 2, 0, w)\n",
        "            x2 = np.clip(x + size // 2, 0, w)\n",
        "            new_image[:, y1:y2,x1:x2] = 0\n",
        "        return new_image"
      ]
    },
    {
      "cell_type": "markdown",
      "metadata": {
        "id": "pQNjkxBwpl_f"
      },
      "source": [
        "Gaussian Noise"
      ]
    },
    {
      "cell_type": "code",
      "execution_count": 25,
      "metadata": {
        "id": "yUy6waPkpl_f"
      },
      "outputs": [],
      "source": [
        "class AddGaussianNoise(nn.Module):\n",
        "    def __init__(self, mean=0., std=1.):\n",
        "        self.std = std\n",
        "        self.mean = mean\n",
        "        \n",
        "    def __call__(self, tensor):\n",
        "        return tensor + torch.randn(tensor.size()) * self.std + self.mean\n",
        "    \n",
        "    def __repr__(self):\n",
        "        return self.__class__.__name__ + '(mean={0}, std={1})'.format(self.mean, self.std)"
      ]
    },
    {
      "cell_type": "markdown",
      "metadata": {},
      "source": [
        "## Data generator"
      ]
    },
    {
      "cell_type": "code",
      "execution_count": 26,
      "metadata": {},
      "outputs": [],
      "source": [
        "s = 0.5\n",
        "data_transforms = transforms.Compose([transforms.RandomHorizontalFlip(0.5),\n",
        "                                      transforms.RandomResizedCrop(32,(0.8,1.0)),\n",
        "                                      transforms.Compose([transforms.RandomApply([transforms.ColorJitter(0.8*s, 0.8*s, 0.8*s, 0.2*s)], p = 0.8),\n",
        "                                                          transforms.RandomGrayscale(p=0.2)])\n",
        "                                      ])"
      ]
    },
    {
      "cell_type": "code",
      "execution_count": 27,
      "metadata": {
        "id": "wGLeZT4lSGV0"
      },
      "outputs": [],
      "source": [
        "class C10DataGen(Dataset):\n",
        "    def __init__(self,phase,imgarr,data_transforms):\n",
        "        self.phase = phase\n",
        "        self.imgarr = imgarr\n",
        "        self.transforms = data_transforms\n",
        "\n",
        "    def __len__(self):\n",
        "        return self.imgarr.shape[0]\n",
        "\n",
        "    def __getitem__(self,idx):\n",
        "        \n",
        "        x = self.imgarr[idx] \n",
        "        #print(x.shape)\n",
        "        x = x.astype(np.float32)/255.0\n",
        "\n",
        "        x1 = self.augment(torch.from_numpy(x))\n",
        "        x2 = self.augment(torch.from_numpy(x))\n",
        "        \n",
        "        x1 = self.preprocess(x1)\n",
        "        x2 = self.preprocess(x2)\n",
        "        \n",
        "        return x1, x2\n",
        "\n",
        "    #shuffles the dataset at the end of each epoch\n",
        "    def on_epoch_end(self):\n",
        "        self.imgarr = self.imgarr[random.sample(population = list(range(self.__len__())),k = self.__len__())]\n",
        "\n",
        "    def preprocess(self,frame):\n",
        "        frame = (frame-MEAN)/STD\n",
        "        return frame\n",
        "    \n",
        "    #applies randomly selected augmentations to each clip (same for each frame in the clip)\n",
        "    def augment(self, frame, transformations = None):\n",
        "        if self.phase == 'train':\n",
        "            frame = self.transforms(frame)\n",
        "        else:\n",
        "            return frame\n",
        "        \n",
        "        return frame"
      ]
    },
    {
      "cell_type": "markdown",
      "metadata": {},
      "source": [
        "## Model"
      ]
    },
    {
      "cell_type": "markdown",
      "metadata": {},
      "source": [
        "PreModel"
      ]
    },
    {
      "cell_type": "code",
      "execution_count": 28,
      "metadata": {
        "id": "PYkMcwWYmawC"
      },
      "outputs": [],
      "source": [
        "class Identity(nn.Module):\n",
        "    def __init__(self):\n",
        "        super(Identity, self).__init__()\n",
        "\n",
        "    def forward(self, x):\n",
        "        return x\n",
        "    \n",
        "class LinearLayer(nn.Module):\n",
        "    def __init__(self,\n",
        "                 in_features,\n",
        "                 out_features,\n",
        "                 use_bias = True,\n",
        "                 use_batchnorm = False,\n",
        "                 **kwargs):\n",
        "        super(LinearLayer, self).__init__(**kwargs)\n",
        "\n",
        "        self.in_features = in_features\n",
        "        self.out_features = out_features\n",
        "        self.use_bias = use_bias\n",
        "        self.use_bn = use_batchnorm\n",
        "        \n",
        "        self.linear = nn.Linear(self.in_features, \n",
        "                                self.out_features, \n",
        "                                bias = self.use_bias and not self.use_bn)\n",
        "        if self.use_bn:\n",
        "             self.bn = nn.BatchNorm1d(self.out_features)\n",
        "\n",
        "    def forward(self,x):\n",
        "        x = self.linear(x)\n",
        "        if self.use_bn:\n",
        "            x = self.bn(x)\n",
        "        return x\n",
        "\n",
        "class ProjectionHead(nn.Module):\n",
        "    def __init__(self,\n",
        "                 in_features,\n",
        "                 hidden_features,\n",
        "                 out_features,\n",
        "                 head_type = 'nonlinear',\n",
        "                 **kwargs):\n",
        "        super(ProjectionHead,self).__init__(**kwargs)\n",
        "        self.in_features = in_features\n",
        "        self.out_features = out_features\n",
        "        self.hidden_features = hidden_features\n",
        "        self.head_type = head_type\n",
        "\n",
        "        if self.head_type == 'linear':\n",
        "            self.layers = LinearLayer(self.in_features,self.out_features,False, True)\n",
        "        elif self.head_type == 'nonlinear':\n",
        "            self.layers = nn.Sequential(\n",
        "                LinearLayer(self.in_features,self.hidden_features,True, True),\n",
        "                nn.ReLU(),\n",
        "                LinearLayer(self.hidden_features,self.out_features,False,True))\n",
        "        \n",
        "    def forward(self,x):\n",
        "        x = self.layers(x)\n",
        "        return x\n",
        "\n",
        "class PreModel(nn.Module):  # with pretrain\n",
        "    def __init__(self,base_model,base_out_layer):\n",
        "        super().__init__()\n",
        "        self.base_model = base_model\n",
        "        self.base_out_layer = base_out_layer\n",
        "        \n",
        "        #PRETRAINED MODEL\n",
        "        self.pretrained = self.base_model\n",
        "        \n",
        "        self.pretrained.conv1 = nn.Conv2d(3, 64, kernel_size=(3, 3), stride=(1, 1), bias=False)\n",
        "        self.pretrained.maxpool = Identity()\n",
        "        \n",
        "        self.pretrained.fc = Identity()\n",
        "        \n",
        "        for p in self.pretrained.parameters():\n",
        "            p.requires_grad = True\n",
        "        \n",
        "        self.projector = ProjectionHead(2048, 2048, self.base_out_layer)\n",
        "    \n",
        "\n",
        "    def forward(self,x):\n",
        "        out = self.pretrained(x)\n",
        "        \n",
        "        xp = self.projector(torch.squeeze(out))\n",
        "        \n",
        "        return xp"
      ]
    },
    {
      "cell_type": "markdown",
      "metadata": {},
      "source": [
        "DownStream Model"
      ]
    },
    {
      "cell_type": "code",
      "execution_count": 29,
      "metadata": {
        "id": "h_Wp1rU1pl_o"
      },
      "outputs": [],
      "source": [
        "class DSModel(nn.Module):\n",
        "    def __init__(self,premodel,num_classes):\n",
        "        super().__init__()\n",
        "        \n",
        "        self.premodel = premodel\n",
        "        \n",
        "        self.num_classes = num_classes\n",
        "\n",
        "        #TAKING OUTPUT FROM AN INTERMEDITATE LAYER\n",
        "        #PREPRAING THE TRUNCATED MODEL\n",
        "        \n",
        "        for p in self.premodel.parameters():\n",
        "            p.requires_grad = False\n",
        "            \n",
        "        for p in self.premodel.projector.parameters():\n",
        "            p.requires_grad = False\n",
        "        \n",
        "        \n",
        "        self.lastlayer = nn.Linear(2048,self.num_classes)\n",
        "        \n",
        "\n",
        "        \n",
        "    def forward(self,x):\n",
        "        out = self.premodel.pretrained(x)\n",
        "        \n",
        "        out = self.lastlayer(out)\n",
        "        return out"
      ]
    },
    {
      "cell_type": "markdown",
      "metadata": {},
      "source": [
        "## Optimizer"
      ]
    },
    {
      "cell_type": "markdown",
      "metadata": {},
      "source": [
        "LARS"
      ]
    },
    {
      "cell_type": "code",
      "execution_count": 30,
      "metadata": {
        "id": "lC1atJNhpl_k"
      },
      "outputs": [],
      "source": [
        "from torch.optim.optimizer import Optimizer, required\n",
        "import re\n",
        "\n",
        "EETA_DEFAULT = 0.001\n",
        "\n",
        "\n",
        "class LARS(Optimizer):\n",
        "    \"\"\"\n",
        "    Layer-wise Adaptive Rate Scaling for large batch training.\n",
        "    Introduced by \"Large Batch Training of Convolutional Networks\" by Y. You,\n",
        "    I. Gitman, and B. Ginsburg. (https://arxiv.org/abs/1708.03888)\n",
        "    \"\"\"\n",
        "\n",
        "    def __init__(self, \n",
        "                 params, \n",
        "                 lr=required,\n",
        "                 momentum=0.9,\n",
        "                 use_nesterov=False,\n",
        "                 weight_decay=0.0,\n",
        "                 exclude_from_weight_decay=None,\n",
        "                 exclude_from_layer_adaptation=None,\n",
        "                 classic_momentum=True,\n",
        "                 eeta=EETA_DEFAULT):\n",
        "        \"\"\"Constructs a LARSOptimizer.\n",
        "        Args:\n",
        "        lr: A `float` for learning rate.\n",
        "        momentum: A `float` for momentum.\n",
        "        use_nesterov: A 'Boolean' for whether to use nesterov momentum.\n",
        "        weight_decay: A `float` for weight decay.\n",
        "        exclude_from_weight_decay: A list of `string` for variable screening, if\n",
        "            any of the string appears in a variable's name, the variable will be\n",
        "            excluded for computing weight decay. For example, one could specify\n",
        "            the list like ['batch_normalization', 'bias'] to exclude BN and bias\n",
        "            from weight decay.\n",
        "        exclude_from_layer_adaptation: Similar to exclude_from_weight_decay, but\n",
        "            for layer adaptation. If it is None, it will be defaulted the same as\n",
        "            exclude_from_weight_decay.\n",
        "        classic_momentum: A `boolean` for whether to use classic (or popular)\n",
        "            momentum. The learning rate is applied during momeuntum update in\n",
        "            classic momentum, but after momentum for popular momentum.\n",
        "        eeta: A `float` for scaling of learning rate when computing trust ratio.\n",
        "        name: The name for the scope.\n",
        "        \"\"\"\n",
        "                \n",
        "        defaults = dict(\n",
        "            lr=lr,\n",
        "            momentum=momentum,\n",
        "            use_nesterov=use_nesterov,\n",
        "            weight_decay=weight_decay,\n",
        "            exclude_from_weight_decay=exclude_from_weight_decay,\n",
        "            exclude_from_layer_adaptation=exclude_from_layer_adaptation,\n",
        "            classic_momentum=classic_momentum,\n",
        "            eeta=eeta,\n",
        "        )\n",
        "\n",
        "        super(LARS, self).__init__(params, defaults)\n",
        "        self.epoch = 0\n",
        "        self.lr = lr\n",
        "        self.momentum = momentum\n",
        "        self.weight_decay = weight_decay\n",
        "        self.use_nesterov = use_nesterov\n",
        "        self.classic_momentum = classic_momentum\n",
        "        self.eeta = eeta\n",
        "        self.exclude_from_weight_decay = exclude_from_weight_decay\n",
        "        self.exclude_from_layer_adaptation = exclude_from_layer_adaptation if exclude_from_layer_adaptation else exclude_from_weight_decay\n",
        "        \n",
        "    def step(self, epoch=None, closure=None):\n",
        "        loss = None\n",
        "        if closure is not None:\n",
        "            loss = closure()\n",
        "\n",
        "        if epoch is None:\n",
        "            epoch = self.epoch\n",
        "            self.epoch += 1\n",
        "\n",
        "        for group in self.param_groups:\n",
        "            weight_decay = group[\"weight_decay\"]\n",
        "            momentum = group[\"momentum\"]\n",
        "            eeta = group[\"eeta\"]\n",
        "            lr = group[\"lr\"]\n",
        "\n",
        "            for p in group[\"params\"]:\n",
        "                if p.grad is None:\n",
        "                    continue\n",
        "\n",
        "                param = p.data\n",
        "                grad = p.grad.data\n",
        "\n",
        "                param_state = self.state[p]\n",
        "\n",
        "                # TODO: get param names\n",
        "                # if self._use_weight_decay(param_name):\n",
        "                grad += self.weight_decay * param\n",
        "\n",
        "                if self.classic_momentum:\n",
        "                    trust_ratio = 1.0\n",
        "\n",
        "                    # TODO: get param names\n",
        "                    # if self._do_layer_adaptation(param_name):\n",
        "                    w_norm = torch.norm(param)\n",
        "                    g_norm = torch.norm(grad)\n",
        "\n",
        "                    device = g_norm.get_device()\n",
        "                    trust_ratio = torch.where(\n",
        "                        w_norm.gt(0),\n",
        "                        torch.where(\n",
        "                            g_norm.gt(0),\n",
        "                            (self.eeta * w_norm / g_norm),\n",
        "                            torch.Tensor([1.0]).to(device),\n",
        "                        ),\n",
        "                        torch.Tensor([1.0]).to(device),\n",
        "                    ).item()\n",
        "\n",
        "                    scaled_lr = lr * trust_ratio\n",
        "                    if \"momentum_buffer\" not in param_state:\n",
        "                        next_v = param_state[\"momentum_buffer\"] = torch.zeros_like(\n",
        "                            p.data\n",
        "                        )\n",
        "                    else:\n",
        "                        next_v = param_state[\"momentum_buffer\"]\n",
        "\n",
        "                    next_v.mul_(momentum).add_(scaled_lr, grad)\n",
        "                    if self.use_nesterov:\n",
        "                        update = (self.momentum * next_v) + (scaled_lr * grad)\n",
        "                    else:\n",
        "                        update = next_v\n",
        "\n",
        "                    p.data.add_(-update)\n",
        "                else:\n",
        "                    raise NotImplementedError\n",
        "\n",
        "        return loss\n",
        "\n",
        "    def _use_weight_decay(self, param_name):\n",
        "        \"\"\"Whether to use L2 weight decay for `param_name`.\"\"\"\n",
        "        if not self.weight_decay:\n",
        "            return False\n",
        "        if self.exclude_from_weight_decay:\n",
        "            for r in self.exclude_from_weight_decay:\n",
        "                if re.search(r, param_name) is not None:\n",
        "                    return False\n",
        "        return True\n",
        "\n",
        "    def _do_layer_adaptation(self, param_name):\n",
        "        \"\"\"Whether to do layer-wise learning rate adaptation for `param_name`.\"\"\"\n",
        "        if self.exclude_from_layer_adaptation:\n",
        "            for r in self.exclude_from_layer_adaptation:\n",
        "                if re.search(r, param_name) is not None:\n",
        "                    return False\n",
        "        return True"
      ]
    },
    {
      "cell_type": "markdown",
      "metadata": {},
      "source": [
        "load_optimizer (maybe don't need it)"
      ]
    },
    {
      "cell_type": "code",
      "execution_count": 31,
      "metadata": {
        "id": "YzZR6tLnFN7U"
      },
      "outputs": [],
      "source": [
        "def load_optimizer(arg_optimizer, model, batch_size):\n",
        "\n",
        "    scheduler = None\n",
        "    if arg_optimizer == \"Adam\":\n",
        "        optimizer = torch.optim.Adam(model.parameters(), lr=3e-4)  # TODO: LARS\n",
        "    elif arg_optimizer == \"LARS\":\n",
        "        # optimized using LARS with linear learning rate scaling\n",
        "        # (i.e. LearningRate = 0.3 × BatchSize/256) and weight decay of 10−6.\n",
        "        learning_rate = 0.3 * batch_size / 256\n",
        "        optimizer = LARS(\n",
        "            [params for params in model.parameters() if params.requires_grad],\n",
        "            lr=0.1,\n",
        "            weight_decay=1e-6,\n",
        "            exclude_from_weight_decay=[\"batch_normalization\", \"bias\"],\n",
        "        )\n",
        "\n",
        "        # \"decay the learning rate with the cosine decay schedule without restarts\"\n",
        "        scheduler = torch.optim.lr_scheduler.CosineAnnealingLR(\n",
        "            optimizer, epochs, eta_min=0, last_epoch=-1\n",
        "        )\n",
        "    else:\n",
        "        raise NotImplementedError\n",
        "\n",
        "    return optimizer, scheduler\n",
        "\n",
        "def save_model(model, optimizer, scheduler, current_epoch, name):\n",
        "    out = os.path.join('./cifar/content/saved_models/',name.format(current_epoch))\n",
        "\n",
        "    torch.save({'model_state_dict': model.state_dict(),\n",
        "                'optimizer_state_dict': optimizer.state_dict(),\n",
        "                'scheduler_state_dict':scheduler.state_dict()}, out)"
      ]
    },
    {
      "cell_type": "markdown",
      "metadata": {},
      "source": [
        "## Loss"
      ]
    },
    {
      "cell_type": "markdown",
      "metadata": {},
      "source": [
        "SimCLR_Loss"
      ]
    },
    {
      "cell_type": "code",
      "execution_count": 32,
      "metadata": {
        "id": "P1Ileef6pl_j"
      },
      "outputs": [],
      "source": [
        "class SimCLR_Loss(nn.Module):\n",
        "    def __init__(self, batch_size, temperature):\n",
        "        super(SimCLR_Loss, self).__init__()\n",
        "        self.batch_size = batch_size\n",
        "        self.temperature = temperature\n",
        "\n",
        "        self.mask = self.mask_correlated_samples(batch_size)\n",
        "        self.criterion = nn.CrossEntropyLoss(reduction=\"sum\")\n",
        "        self.similarity_f = nn.CosineSimilarity(dim=2)\n",
        "        \n",
        "        self.tot_neg = 0\n",
        "\n",
        "    def mask_correlated_samples(self, batch_size):\n",
        "        N = 2 * batch_size\n",
        "        mask = torch.ones((N, N), dtype=bool)\n",
        "        mask = mask.fill_diagonal_(0)\n",
        "        \n",
        "        for i in range(batch_size):\n",
        "            mask[i, batch_size + i] = 0\n",
        "            mask[batch_size + i, i] = 0\n",
        "            \n",
        "        return mask\n",
        "\n",
        "    def forward(self, z_i, z_j):\n",
        "        # Make simlilarity matrix with cosine function from paper\n",
        "        N = 2 * self.batch_size \n",
        "        z = torch.cat((z_i, z_j), dim=0)\n",
        "        sim = self.similarity_f(z.unsqueeze(1), z.unsqueeze(0)) / self.temperature\n",
        "        \n",
        "        sim_i_j = torch.diag(sim, self.batch_size)  # diagonal of rowi_colj\n",
        "        sim_j_i = torch.diag(sim, -self.batch_size) # diagonal of rowj_coli\n",
        "        \n",
        "        # We have 2N samples, but with Distributed training every GPU gets N examples too, resulting in: 2xNxN\n",
        "        positive_samples = torch.cat((sim_i_j, sim_j_i), dim=0).reshape(N, 1)\n",
        "        negative_samples = sim[self.mask].reshape(N, -1)\n",
        "                \n",
        "        #SIMCLR\n",
        "        labels = torch.zeros(N).to(positive_samples.device)\n",
        "        # labels = torch.from_numpy(np.array([0]*N)).reshape(-1).to(positive_samples.device).long()\n",
        "        logits = torch.cat((positive_samples, negative_samples), dim=1)\n",
        "        loss = self.criterion(logits, labels)\n",
        "        loss /= N\n",
        "        \n",
        "        return loss"
      ]
    },
    {
      "cell_type": "markdown",
      "metadata": {},
      "source": [
        "## Train and validation"
      ]
    },
    {
      "cell_type": "code",
      "execution_count": 33,
      "metadata": {
        "id": "eVPcOEDqpl_m"
      },
      "outputs": [],
      "source": [
        "def train(train_loader, model, criterion, optimizer):\n",
        "    loss_epoch = 0\n",
        "    \n",
        "    for step, (x_i, x_j) in enumerate(train_loader):\n",
        "        optimizer.zero_grad()\n",
        "        x_i = x_i.squeeze().to('cuda:0').float()\n",
        "        x_j = x_j.squeeze().to('cuda:0').float()\n",
        "\n",
        "        # positive pair, with encoding\n",
        "        z_i = model(x_i)\n",
        "        z_j = model(x_j)\n",
        "\n",
        "        loss = criterion(z_i, z_j)\n",
        "        loss.backward()\n",
        "\n",
        "        optimizer.step()\n",
        "        \n",
        "        if nr == 0 and step % 50 == 0:\n",
        "            print(f\"Step [{step}/{len(train_loader)}]\\t Loss: {round(loss.item(), 5)}\")\n",
        "\n",
        "        loss_epoch += loss.item()\n",
        "    return loss_epoch"
      ]
    },
    {
      "cell_type": "code",
      "execution_count": 34,
      "metadata": {
        "id": "o9q6ZHKkpl_m"
      },
      "outputs": [],
      "source": [
        "# Loss on val loader\n",
        "def valid(valid_loader, model, criterion):\n",
        "    loss_epoch = 0\n",
        "    for step, (x_i, x_j) in enumerate(valid_loader):\n",
        "        \n",
        "        x_i = x_i.squeeze().to('cuda:0').float()\n",
        "        x_j = x_j.squeeze().to('cuda:0').float()\n",
        "\n",
        "        # positive pair, with encoding\n",
        "        z_i = model(x_i)\n",
        "        z_j = model(x_j)\n",
        "\n",
        "        loss = criterion(z_i, z_j)\n",
        "        \n",
        "        if nr == 0 and step % 50 == 0:\n",
        "            print(f\"Step [{step}/{len(valid_loader)}]\\t Loss: {round(loss.item(),5)}\")\n",
        "\n",
        "        loss_epoch += loss.item()\n",
        "    return loss_epoch"
      ]
    },
    {
      "cell_type": "markdown",
      "metadata": {},
      "source": [
        "# Dataset and DataLoader"
      ]
    },
    {
      "cell_type": "code",
      "execution_count": 35,
      "metadata": {
        "colab": {
          "base_uri": "https://localhost:8080/"
        },
        "id": "yWp44kBgMn9D",
        "outputId": "03166ace-b0be-4d0f-d98d-3539a9368bfa"
      },
      "outputs": [
        {
          "name": "stdout",
          "output_type": "stream",
          "text": [
            "(50000, 3072) (50000,)\n"
          ]
        }
      ],
      "source": [
        "train_files = ['data_batch_1','data_batch_2','data_batch_3','data_batch_4','data_batch_5']\n",
        "data_batches = np.array([],dtype=np.uint8).reshape((0,3072))\n",
        "label_batches = np.array([])\n",
        "for file in train_files:\n",
        "    data_dict = unpickle('./content/cifar-10-batches-py/' + file)\n",
        "    data = data_dict[b'data']\n",
        "    data_batches = np.append(data_batches,data,axis=0)\n",
        "    label_batches = np.append(label_batches,data_dict[b'labels'])\n",
        "print(data_batches.shape, label_batches.shape)"
      ]
    },
    {
      "cell_type": "code",
      "execution_count": 36,
      "metadata": {
        "colab": {
          "base_uri": "https://localhost:8080/"
        },
        "id": "gKO0K3hFMoEe",
        "outputId": "7ebf7ca3-da52-4ee4-d85b-28cb6c2443fa"
      },
      "outputs": [
        {
          "name": "stdout",
          "output_type": "stream",
          "text": [
            "(10000, 3072) (10000,)\n"
          ]
        }
      ],
      "source": [
        "test_batch = np.array([],dtype=np.uint8).reshape((0,3072))\n",
        "test_labels = np.array([])\n",
        "\n",
        "data_dict = unpickle('./content/cifar-10-batches-py/test_batch')\n",
        "data = data_dict[b'data']\n",
        "test_batch = np.append(test_batch,data,axis=0)\n",
        "test_labels = np.append(test_labels,data_dict[b'labels'])\n",
        "print(test_batch.shape, test_labels.shape)"
      ]
    },
    {
      "cell_type": "code",
      "execution_count": 37,
      "metadata": {
        "colab": {
          "base_uri": "https://localhost:8080/"
        },
        "id": "7nUOYZFEMoLz",
        "outputId": "0ef37c45-0b11-4b33-fb7d-8e657606e249"
      },
      "outputs": [
        {
          "name": "stderr",
          "output_type": "stream",
          "text": [
            "/tmp/ipykernel_2266/40988324.py:1: DeprecationWarning: `np.float` is a deprecated alias for the builtin `float`. To silence this warning, use `float` by itself. Doing this will not modify any behavior and is safe. If you specifically wanted the numpy scalar type, use `np.float64` here.\n",
            "Deprecated in NumPy 1.20; for more details and guidance: https://numpy.org/devdocs/release/1.20.0-notes.html#deprecations\n",
            "  images = data_batches.reshape((-1,3,32,32)).astype(np.float)\n"
          ]
        },
        {
          "name": "stdout",
          "output_type": "stream",
          "text": [
            "(50000, 3, 32, 32) (10000, 3, 32, 32)\n"
          ]
        },
        {
          "name": "stderr",
          "output_type": "stream",
          "text": [
            "/tmp/ipykernel_2266/40988324.py:2: DeprecationWarning: `np.float` is a deprecated alias for the builtin `float`. To silence this warning, use `float` by itself. Doing this will not modify any behavior and is safe. If you specifically wanted the numpy scalar type, use `np.float64` here.\n",
            "Deprecated in NumPy 1.20; for more details and guidance: https://numpy.org/devdocs/release/1.20.0-notes.html#deprecations\n",
            "  test_images = test_batch.reshape((-1,3,32,32)).astype(np.float)\n"
          ]
        }
      ],
      "source": [
        "images = data_batches.reshape((-1,3,32,32)).astype(np.float)\n",
        "test_images = test_batch.reshape((-1,3,32,32)).astype(np.float)\n",
        "\n",
        "print(images.shape, test_images.shape)"
      ]
    },
    {
      "cell_type": "code",
      "execution_count": 38,
      "metadata": {
        "id": "edReLh5LMoTB"
      },
      "outputs": [],
      "source": [
        "images = images\n",
        "test_images = test_images"
      ]
    },
    {
      "cell_type": "code",
      "execution_count": 39,
      "metadata": {
        "id": "4H5FOWP6RtBa"
      },
      "outputs": [],
      "source": [
        "train_images = np.moveaxis(images,1,3)\n",
        "test_images = np.moveaxis(test_images,1,3)"
      ]
    },
    {
      "cell_type": "code",
      "execution_count": 40,
      "metadata": {
        "id": "5FAFkcmTRWV8"
      },
      "outputs": [
        {
          "name": "stderr",
          "output_type": "stream",
          "text": [
            "/tmp/ipykernel_2266/1218654588.py:1: DeprecationWarning: `np.int` is a deprecated alias for the builtin `int`. To silence this warning, use `int` by itself. Doing this will not modify any behavior and is safe. When replacing `np.int`, you may wish to use e.g. `np.int64` or `np.int32` to specify the precision. If you wish to review your current use, check the release note link for additional information.\n",
            "Deprecated in NumPy 1.20; for more details and guidance: https://numpy.org/devdocs/release/1.20.0-notes.html#deprecations\n",
            "  labels = label_batches.astype(np.int)\n",
            "/tmp/ipykernel_2266/1218654588.py:2: DeprecationWarning: `np.int` is a deprecated alias for the builtin `int`. To silence this warning, use `int` by itself. Doing this will not modify any behavior and is safe. When replacing `np.int`, you may wish to use e.g. `np.int64` or `np.int32` to specify the precision. If you wish to review your current use, check the release note link for additional information.\n",
            "Deprecated in NumPy 1.20; for more details and guidance: https://numpy.org/devdocs/release/1.20.0-notes.html#deprecations\n",
            "  test_labels = test_labels.astype(np.int)\n"
          ]
        }
      ],
      "source": [
        "labels = label_batches.astype(np.int)\n",
        "test_labels = test_labels.astype(np.int)"
      ]
    },
    {
      "cell_type": "code",
      "execution_count": 41,
      "metadata": {
        "id": "M0IGuzTGQmEJ"
      },
      "outputs": [],
      "source": [
        "lab_dict = {0:'airplane',1:'automobile',2:'bird',3:'cat',4:'deer',5:'dog',6:'frog',7:'horse',8:'ship',9:'truck'}"
      ]
    },
    {
      "cell_type": "code",
      "execution_count": 42,
      "metadata": {
        "colab": {
          "base_uri": "https://localhost:8080/",
          "height": 283
        },
        "id": "hvQ9ElwuQHzR",
        "outputId": "52369f21-8d8f-47d6-e12b-62f9e84b943c"
      },
      "outputs": [
        {
          "data": {
            "image/png": "[encoded data removed]",
            "text/plain": [
              "<Figure size 432x288 with 1 Axes>"
            ]
          },
          "metadata": {
            "needs_background": "light"
          },
          "output_type": "display_data"
        },
        {
          "name": "stdout",
          "output_type": "stream",
          "text": [
            "truck\n"
          ]
        }
      ],
      "source": [
        "# Image example\n",
        "plt.imshow(train_images[1]/255.0)\n",
        "plt.show()\n",
        "print(lab_dict[labels[1]])"
      ]
    },
    {
      "cell_type": "code",
      "execution_count": 43,
      "metadata": {
        "id": "B08GiwN2pl_l"
      },
      "outputs": [],
      "source": [
        "train_images = images[:40000]\n",
        "val_images = images[40000:]\n",
        "train_labels = labels[:40000]\n",
        "val_labels = labels[40000:]"
      ]
    },
    {
      "cell_type": "code",
      "execution_count": 44,
      "metadata": {
        "id": "SbKVH47BUmeu"
      },
      "outputs": [],
      "source": [
        "dg = C10DataGen('train',train_images, data_transforms)#train_df)\n",
        "dl = DataLoader(dg,batch_size = 128,drop_last=True)"
      ]
    },
    {
      "cell_type": "code",
      "execution_count": 45,
      "metadata": {
        "id": "rKYK4PXwpl_l"
      },
      "outputs": [],
      "source": [
        "vdg = C10DataGen('valid',val_images, data_transforms)#_df)\n",
        "vdl = DataLoader(vdg,batch_size = 128,drop_last=True)"
      ]
    },
    {
      "cell_type": "code",
      "execution_count": 46,
      "metadata": {
        "colab": {
          "base_uri": "https://localhost:8080/",
          "height": 333
        },
        "id": "Hs2MG-9fL65Z",
        "outputId": "2524b588-8d8c-41bf-aabd-a6393fb6596c"
      },
      "outputs": [
        {
          "data": {
            "text/plain": [
              "(array([1014., 1014.,  952., 1016.,  997., 1025.,  980.,  977., 1003.,\n",
              "        1022.]),\n",
              " array([0. , 0.9, 1.8, 2.7, 3.6, 4.5, 5.4, 6.3, 7.2, 8.1, 9. ]),\n",
              " <BarContainer object of 10 artists>)"
            ]
          },
          "execution_count": 46,
          "metadata": {},
          "output_type": "execute_result"
        },
        {
          "data": {
            "image/png": "[encoded data removed]",
            "text/plain": [
              "<Figure size 432x288 with 1 Axes>"
            ]
          },
          "metadata": {
            "needs_background": "light"
          },
          "output_type": "display_data"
        }
      ],
      "source": [
        "plt.hist(val_labels)"
      ]
    },
    {
      "cell_type": "markdown",
      "metadata": {
        "id": "cIqfcSTWpl_g"
      },
      "source": [
        "Dataset"
      ]
    },
    {
      "cell_type": "code",
      "execution_count": 47,
      "metadata": {
        "id": "3CLG1XLipl_g"
      },
      "outputs": [],
      "source": [
        "train_set = C10DataGen('train',train_images, data_transforms) #train_df)\n",
        "val_set = C10DataGen('valid',val_images, data_transforms)#_df)"
      ]
    },
    {
      "cell_type": "code",
      "execution_count": 48,
      "metadata": {
        "id": "-QVpNB6PG1SV"
      },
      "outputs": [
        {
          "data": {
            "text/plain": [
              "array([0, 1, 2, 3, 4, 5, 6, 7, 8, 9])"
            ]
          },
          "execution_count": 48,
          "metadata": {},
          "output_type": "execute_result"
        }
      ],
      "source": [
        "np.unique(val_labels)"
      ]
    },
    {
      "cell_type": "code",
      "execution_count": 49,
      "metadata": {
        "colab": {
          "base_uri": "https://localhost:8080/",
          "height": 1000
        },
        "id": "2bdppfUYpl_g",
        "outputId": "f65cfd59-6875-4029-9968-db1f8e740c00",
        "scrolled": true
      },
      "outputs": [
        {
          "data": {
            "image/png": "[encoded data removed]",
            "text/plain": [
              "<Figure size 576x2304 with 16 Axes>"
            ]
          },
          "metadata": {
            "needs_background": "light"
          },
          "output_type": "display_data"
        }
      ],
      "source": [
        "MEAN = np.mean(images[:40000]/255.0,axis=(0,2,3),keepdims=True)\n",
        "STD = np.std(images[:40000]/255.0,axis=(0,2,3),keepdims=True)\n",
        "# Image after standardization\n",
        "fig,axs = plt.subplots(8,2,figsize=(8,32))\n",
        "for step,(x1,x2) in enumerate(dl):\n",
        "    for i in range(8):\n",
        "        axs[i,0].imshow((x1[i]*STD + MEAN).squeeze().permute(1,2,0).numpy())\n",
        "        axs[i,1].imshow((x2[i]*STD + MEAN).squeeze().permute(1,2,0).numpy())\n",
        "    break"
      ]
    },
    {
      "cell_type": "markdown",
      "metadata": {
        "id": "eRZ-ey1_2mPZ"
      },
      "source": [
        "# Model"
      ]
    },
    {
      "cell_type": "code",
      "execution_count": 50,
      "metadata": {},
      "outputs": [],
      "source": [
        "base_model = models.resnet50(pretrained=True)\n",
        "model = PreModel(base_model, 128)\n",
        "model = model.to('cuda:0')"
      ]
    },
    {
      "cell_type": "markdown",
      "metadata": {
        "id": "ZEaRSe00ZRIO"
      },
      "source": [
        "# Training"
      ]
    },
    {
      "cell_type": "markdown",
      "metadata": {
        "id": "OJPC4wYwpl_l"
      },
      "source": [
        "Feature before train"
      ]
    },
    {
      "cell_type": "code",
      "execution_count": 52,
      "metadata": {
        "id": "UdumxB3Gc_IG"
      },
      "outputs": [
        {
          "name": "stderr",
          "output_type": "stream",
          "text": [
            "/home/tidrael/anaconda3/envs/pytorch/lib/python3.9/site-packages/sklearn/manifold/_t_sne.py:780: FutureWarning: The default initialization in TSNE will change from 'random' to 'pca' in 1.2.\n",
            "  warnings.warn(\n",
            "/home/tidrael/anaconda3/envs/pytorch/lib/python3.9/site-packages/sklearn/manifold/_t_sne.py:790: FutureWarning: The default learning rate in TSNE will change from 200.0 to 'auto' in 1.2.\n",
            "  warnings.warn(\n"
          ]
        },
        {
          "data": {
            "image/png": "[encoded data removed]",
            "text/plain": [
              "<Figure size 432x288 with 1 Axes>"
            ]
          },
          "metadata": {
            "needs_background": "light"
          },
          "output_type": "display_data"
        }
      ],
      "source": [
        "plot_features(model.pretrained, 10, 2048, 128, vdl)"
      ]
    },
    {
      "cell_type": "code",
      "execution_count": 53,
      "metadata": {
        "colab": {
          "base_uri": "https://localhost:8080/"
        },
        "id": "S7_mTokQpl_j",
        "outputId": "661a7693-50a0-4668-d8a6-e3c0e7245767"
      },
      "outputs": [],
      "source": [
        "# !mkdir content/saved_models"
      ]
    },
    {
      "cell_type": "code",
      "execution_count": 54,
      "metadata": {
        "colab": {
          "base_uri": "https://localhost:8080/"
        },
        "id": "hPRKldHepl_k",
        "outputId": "4b152adf-55cb-4114-a8fa-dd35f9243f86"
      },
      "outputs": [
        {
          "name": "stdout",
          "output_type": "stream",
          "text": [
            "Adjusting learning rate of group 0 to 2.0000e-02.\n",
            "Epoch 00000: adjusting learning rate of group 0 to 2.0000e-01.\n"
          ]
        }
      ],
      "source": [
        "optimizer = LARS(\n",
        "    [params for params in model.parameters() if params.requires_grad],\n",
        "    lr=0.2,\n",
        "    weight_decay=1e-6,\n",
        "    exclude_from_weight_decay=[\"batch_normalization\", \"bias\"],\n",
        ")\n",
        "\n",
        "# \"decay the learning rate with the cosine decay schedule without restarts\"\n",
        "warmupscheduler = torch.optim.lr_scheduler.LambdaLR(optimizer, lambda epoch : (epoch+1)/10.0, verbose = True)\n",
        "mainscheduler = torch.optim.lr_scheduler.CosineAnnealingWarmRestarts(optimizer, 500, eta_min=0.05, last_epoch=-1, verbose = True)"
      ]
    },
    {
      "cell_type": "code",
      "execution_count": 55,
      "metadata": {
        "id": "AHlV6dPaZClA"
      },
      "outputs": [],
      "source": [
        "criterion = SimCLR_Loss(batch_size = 128, temperature = 0.5)"
      ]
    },
    {
      "cell_type": "code",
      "execution_count": 56,
      "metadata": {
        "id": "KSkx3X6Dpl_m"
      },
      "outputs": [],
      "source": [
        "nr = 0\n",
        "global_step = 0\n",
        "current_epoch = 0\n",
        "epochs = 100\n",
        "tr_loss = []\n",
        "val_loss = []"
      ]
    },
    {
      "cell_type": "markdown",
      "metadata": {},
      "source": [
        "Main"
      ]
    },
    {
      "cell_type": "code",
      "execution_count": 57,
      "metadata": {
        "colab": {
          "base_uri": "https://localhost:8080/",
          "height": 1000
        },
        "id": "tv6V3d-iZIbH",
        "outputId": "52c19fde-af32-4120-fa39-82091406a4df",
        "scrolled": true
      },
      "outputs": [
        {
          "name": "stdout",
          "output_type": "stream",
          "text": [
            "Epoch [0/100]\t\n"
          ]
        },
        {
          "ename": "RuntimeError",
          "evalue": "CUDA out of memory. Tried to allocate 20.00 MiB (GPU 0; 4.00 GiB total capacity; 2.60 GiB already allocated; 0 bytes free; 2.70 GiB reserved in total by PyTorch) If reserved memory is >> allocated memory try setting max_split_size_mb to avoid fragmentation.  See documentation for Memory Management and PYTORCH_CUDA_ALLOC_CONF",
          "output_type": "error",
          "traceback": [
            "\u001b[0;31m---------------------------------------------------------------------------\u001b[0m",
            "\u001b[0;31mRuntimeError\u001b[0m                              Traceback (most recent call last)",
            "\u001b[1;32m/home/tidrael/CIFAR/SImCLR_cifar10.ipynb Cell 91'\u001b[0m in \u001b[0;36m<cell line: 1>\u001b[0;34m()\u001b[0m\n\u001b[1;32m      <a href='vscode-notebook-cell://wsl%2Bubuntu/home/tidrael/CIFAR/SImCLR_cifar10.ipynb#ch0000090vscode-remote?line=3'>4</a>\u001b[0m start_time \u001b[39m=\u001b[39m time\u001b[39m.\u001b[39mtime()\n\u001b[1;32m      <a href='vscode-notebook-cell://wsl%2Bubuntu/home/tidrael/CIFAR/SImCLR_cifar10.ipynb#ch0000090vscode-remote?line=5'>6</a>\u001b[0m model\u001b[39m.\u001b[39mtrain()\n\u001b[0;32m----> <a href='vscode-notebook-cell://wsl%2Bubuntu/home/tidrael/CIFAR/SImCLR_cifar10.ipynb#ch0000090vscode-remote?line=6'>7</a>\u001b[0m train_loss_epoch \u001b[39m=\u001b[39m train(dl, model, criterion, optimizer)\n\u001b[1;32m      <a href='vscode-notebook-cell://wsl%2Bubuntu/home/tidrael/CIFAR/SImCLR_cifar10.ipynb#ch0000090vscode-remote?line=8'>9</a>\u001b[0m \u001b[39mif\u001b[39;00m nr \u001b[39m==\u001b[39m \u001b[39m0\u001b[39m \u001b[39mand\u001b[39;00m epoch \u001b[39m<\u001b[39m \u001b[39m10\u001b[39m:\n\u001b[1;32m     <a href='vscode-notebook-cell://wsl%2Bubuntu/home/tidrael/CIFAR/SImCLR_cifar10.ipynb#ch0000090vscode-remote?line=9'>10</a>\u001b[0m     warmupscheduler\u001b[39m.\u001b[39mstep()\n",
            "\u001b[1;32m/home/tidrael/CIFAR/SImCLR_cifar10.ipynb Cell 62'\u001b[0m in \u001b[0;36mtrain\u001b[0;34m(train_loader, model, criterion, optimizer)\u001b[0m\n\u001b[1;32m      <a href='vscode-notebook-cell://wsl%2Bubuntu/home/tidrael/CIFAR/SImCLR_cifar10.ipynb#ch0000061vscode-remote?line=6'>7</a>\u001b[0m x_j \u001b[39m=\u001b[39m x_j\u001b[39m.\u001b[39msqueeze()\u001b[39m.\u001b[39mto(\u001b[39m'\u001b[39m\u001b[39mcuda:0\u001b[39m\u001b[39m'\u001b[39m)\u001b[39m.\u001b[39mfloat()\n\u001b[1;32m      <a href='vscode-notebook-cell://wsl%2Bubuntu/home/tidrael/CIFAR/SImCLR_cifar10.ipynb#ch0000061vscode-remote?line=8'>9</a>\u001b[0m \u001b[39m# positive pair, with encoding\u001b[39;00m\n\u001b[0;32m---> <a href='vscode-notebook-cell://wsl%2Bubuntu/home/tidrael/CIFAR/SImCLR_cifar10.ipynb#ch0000061vscode-remote?line=9'>10</a>\u001b[0m z_i \u001b[39m=\u001b[39m model(x_i)\n\u001b[1;32m     <a href='vscode-notebook-cell://wsl%2Bubuntu/home/tidrael/CIFAR/SImCLR_cifar10.ipynb#ch0000061vscode-remote?line=10'>11</a>\u001b[0m z_j \u001b[39m=\u001b[39m model(x_j)\n\u001b[1;32m     <a href='vscode-notebook-cell://wsl%2Bubuntu/home/tidrael/CIFAR/SImCLR_cifar10.ipynb#ch0000061vscode-remote?line=12'>13</a>\u001b[0m loss \u001b[39m=\u001b[39m criterion(z_i, z_j)\n",
            "File \u001b[0;32m~/anaconda3/envs/pytorch/lib/python3.9/site-packages/torch/nn/modules/module.py:1110\u001b[0m, in \u001b[0;36mModule._call_impl\u001b[0;34m(self, *input, **kwargs)\u001b[0m\n\u001b[1;32m   <a href='file:///home/tidrael/anaconda3/envs/pytorch/lib/python3.9/site-packages/torch/nn/modules/module.py?line=1105'>1106</a>\u001b[0m \u001b[39m# If we don't have any hooks, we want to skip the rest of the logic in\u001b[39;00m\n\u001b[1;32m   <a href='file:///home/tidrael/anaconda3/envs/pytorch/lib/python3.9/site-packages/torch/nn/modules/module.py?line=1106'>1107</a>\u001b[0m \u001b[39m# this function, and just call forward.\u001b[39;00m\n\u001b[1;32m   <a href='file:///home/tidrael/anaconda3/envs/pytorch/lib/python3.9/site-packages/torch/nn/modules/module.py?line=1107'>1108</a>\u001b[0m \u001b[39mif\u001b[39;00m \u001b[39mnot\u001b[39;00m (\u001b[39mself\u001b[39m\u001b[39m.\u001b[39m_backward_hooks \u001b[39mor\u001b[39;00m \u001b[39mself\u001b[39m\u001b[39m.\u001b[39m_forward_hooks \u001b[39mor\u001b[39;00m \u001b[39mself\u001b[39m\u001b[39m.\u001b[39m_forward_pre_hooks \u001b[39mor\u001b[39;00m _global_backward_hooks\n\u001b[1;32m   <a href='file:///home/tidrael/anaconda3/envs/pytorch/lib/python3.9/site-packages/torch/nn/modules/module.py?line=1108'>1109</a>\u001b[0m         \u001b[39mor\u001b[39;00m _global_forward_hooks \u001b[39mor\u001b[39;00m _global_forward_pre_hooks):\n\u001b[0;32m-> <a href='file:///home/tidrael/anaconda3/envs/pytorch/lib/python3.9/site-packages/torch/nn/modules/module.py?line=1109'>1110</a>\u001b[0m     \u001b[39mreturn\u001b[39;00m forward_call(\u001b[39m*\u001b[39;49m\u001b[39minput\u001b[39;49m, \u001b[39m*\u001b[39;49m\u001b[39m*\u001b[39;49mkwargs)\n\u001b[1;32m   <a href='file:///home/tidrael/anaconda3/envs/pytorch/lib/python3.9/site-packages/torch/nn/modules/module.py?line=1110'>1111</a>\u001b[0m \u001b[39m# Do not call functions when jit is used\u001b[39;00m\n\u001b[1;32m   <a href='file:///home/tidrael/anaconda3/envs/pytorch/lib/python3.9/site-packages/torch/nn/modules/module.py?line=1111'>1112</a>\u001b[0m full_backward_hooks, non_full_backward_hooks \u001b[39m=\u001b[39m [], []\n",
            "\u001b[1;32m/home/tidrael/CIFAR/SImCLR_cifar10.ipynb Cell 50'\u001b[0m in \u001b[0;36mPreModel.forward\u001b[0;34m(self, x)\u001b[0m\n\u001b[1;32m     <a href='vscode-notebook-cell://wsl%2Bubuntu/home/tidrael/CIFAR/SImCLR_cifar10.ipynb#ch0000049vscode-remote?line=78'>79</a>\u001b[0m \u001b[39mdef\u001b[39;00m \u001b[39mforward\u001b[39m(\u001b[39mself\u001b[39m,x):\n\u001b[0;32m---> <a href='vscode-notebook-cell://wsl%2Bubuntu/home/tidrael/CIFAR/SImCLR_cifar10.ipynb#ch0000049vscode-remote?line=79'>80</a>\u001b[0m     out \u001b[39m=\u001b[39m \u001b[39mself\u001b[39;49m\u001b[39m.\u001b[39;49mpretrained(x)\n\u001b[1;32m     <a href='vscode-notebook-cell://wsl%2Bubuntu/home/tidrael/CIFAR/SImCLR_cifar10.ipynb#ch0000049vscode-remote?line=81'>82</a>\u001b[0m     xp \u001b[39m=\u001b[39m \u001b[39mself\u001b[39m\u001b[39m.\u001b[39mprojector(torch\u001b[39m.\u001b[39msqueeze(out))\n\u001b[1;32m     <a href='vscode-notebook-cell://wsl%2Bubuntu/home/tidrael/CIFAR/SImCLR_cifar10.ipynb#ch0000049vscode-remote?line=83'>84</a>\u001b[0m     \u001b[39mreturn\u001b[39;00m xp\n",
            "File \u001b[0;32m~/anaconda3/envs/pytorch/lib/python3.9/site-packages/torch/nn/modules/module.py:1110\u001b[0m, in \u001b[0;36mModule._call_impl\u001b[0;34m(self, *input, **kwargs)\u001b[0m\n\u001b[1;32m   <a href='file:///home/tidrael/anaconda3/envs/pytorch/lib/python3.9/site-packages/torch/nn/modules/module.py?line=1105'>1106</a>\u001b[0m \u001b[39m# If we don't have any hooks, we want to skip the rest of the logic in\u001b[39;00m\n\u001b[1;32m   <a href='file:///home/tidrael/anaconda3/envs/pytorch/lib/python3.9/site-packages/torch/nn/modules/module.py?line=1106'>1107</a>\u001b[0m \u001b[39m# this function, and just call forward.\u001b[39;00m\n\u001b[1;32m   <a href='file:///home/tidrael/anaconda3/envs/pytorch/lib/python3.9/site-packages/torch/nn/modules/module.py?line=1107'>1108</a>\u001b[0m \u001b[39mif\u001b[39;00m \u001b[39mnot\u001b[39;00m (\u001b[39mself\u001b[39m\u001b[39m.\u001b[39m_backward_hooks \u001b[39mor\u001b[39;00m \u001b[39mself\u001b[39m\u001b[39m.\u001b[39m_forward_hooks \u001b[39mor\u001b[39;00m \u001b[39mself\u001b[39m\u001b[39m.\u001b[39m_forward_pre_hooks \u001b[39mor\u001b[39;00m _global_backward_hooks\n\u001b[1;32m   <a href='file:///home/tidrael/anaconda3/envs/pytorch/lib/python3.9/site-packages/torch/nn/modules/module.py?line=1108'>1109</a>\u001b[0m         \u001b[39mor\u001b[39;00m _global_forward_hooks \u001b[39mor\u001b[39;00m _global_forward_pre_hooks):\n\u001b[0;32m-> <a href='file:///home/tidrael/anaconda3/envs/pytorch/lib/python3.9/site-packages/torch/nn/modules/module.py?line=1109'>1110</a>\u001b[0m     \u001b[39mreturn\u001b[39;00m forward_call(\u001b[39m*\u001b[39;49m\u001b[39minput\u001b[39;49m, \u001b[39m*\u001b[39;49m\u001b[39m*\u001b[39;49mkwargs)\n\u001b[1;32m   <a href='file:///home/tidrael/anaconda3/envs/pytorch/lib/python3.9/site-packages/torch/nn/modules/module.py?line=1110'>1111</a>\u001b[0m \u001b[39m# Do not call functions when jit is used\u001b[39;00m\n\u001b[1;32m   <a href='file:///home/tidrael/anaconda3/envs/pytorch/lib/python3.9/site-packages/torch/nn/modules/module.py?line=1111'>1112</a>\u001b[0m full_backward_hooks, non_full_backward_hooks \u001b[39m=\u001b[39m [], []\n",
            "File \u001b[0;32m~/anaconda3/envs/pytorch/lib/python3.9/site-packages/torchvision/models/resnet.py:283\u001b[0m, in \u001b[0;36mResNet.forward\u001b[0;34m(self, x)\u001b[0m\n\u001b[1;32m    <a href='file:///home/tidrael/anaconda3/envs/pytorch/lib/python3.9/site-packages/torchvision/models/resnet.py?line=281'>282</a>\u001b[0m \u001b[39mdef\u001b[39;00m \u001b[39mforward\u001b[39m(\u001b[39mself\u001b[39m, x: Tensor) \u001b[39m-\u001b[39m\u001b[39m>\u001b[39m Tensor:\n\u001b[0;32m--> <a href='file:///home/tidrael/anaconda3/envs/pytorch/lib/python3.9/site-packages/torchvision/models/resnet.py?line=282'>283</a>\u001b[0m     \u001b[39mreturn\u001b[39;00m \u001b[39mself\u001b[39;49m\u001b[39m.\u001b[39;49m_forward_impl(x)\n",
            "File \u001b[0;32m~/anaconda3/envs/pytorch/lib/python3.9/site-packages/torchvision/models/resnet.py:273\u001b[0m, in \u001b[0;36mResNet._forward_impl\u001b[0;34m(self, x)\u001b[0m\n\u001b[1;32m    <a href='file:///home/tidrael/anaconda3/envs/pytorch/lib/python3.9/site-packages/torchvision/models/resnet.py?line=270'>271</a>\u001b[0m x \u001b[39m=\u001b[39m \u001b[39mself\u001b[39m\u001b[39m.\u001b[39mlayer1(x)\n\u001b[1;32m    <a href='file:///home/tidrael/anaconda3/envs/pytorch/lib/python3.9/site-packages/torchvision/models/resnet.py?line=271'>272</a>\u001b[0m x \u001b[39m=\u001b[39m \u001b[39mself\u001b[39m\u001b[39m.\u001b[39mlayer2(x)\n\u001b[0;32m--> <a href='file:///home/tidrael/anaconda3/envs/pytorch/lib/python3.9/site-packages/torchvision/models/resnet.py?line=272'>273</a>\u001b[0m x \u001b[39m=\u001b[39m \u001b[39mself\u001b[39;49m\u001b[39m.\u001b[39;49mlayer3(x)\n\u001b[1;32m    <a href='file:///home/tidrael/anaconda3/envs/pytorch/lib/python3.9/site-packages/torchvision/models/resnet.py?line=273'>274</a>\u001b[0m x \u001b[39m=\u001b[39m \u001b[39mself\u001b[39m\u001b[39m.\u001b[39mlayer4(x)\n\u001b[1;32m    <a href='file:///home/tidrael/anaconda3/envs/pytorch/lib/python3.9/site-packages/torchvision/models/resnet.py?line=275'>276</a>\u001b[0m x \u001b[39m=\u001b[39m \u001b[39mself\u001b[39m\u001b[39m.\u001b[39mavgpool(x)\n",
            "File \u001b[0;32m~/anaconda3/envs/pytorch/lib/python3.9/site-packages/torch/nn/modules/module.py:1110\u001b[0m, in \u001b[0;36mModule._call_impl\u001b[0;34m(self, *input, **kwargs)\u001b[0m\n\u001b[1;32m   <a href='file:///home/tidrael/anaconda3/envs/pytorch/lib/python3.9/site-packages/torch/nn/modules/module.py?line=1105'>1106</a>\u001b[0m \u001b[39m# If we don't have any hooks, we want to skip the rest of the logic in\u001b[39;00m\n\u001b[1;32m   <a href='file:///home/tidrael/anaconda3/envs/pytorch/lib/python3.9/site-packages/torch/nn/modules/module.py?line=1106'>1107</a>\u001b[0m \u001b[39m# this function, and just call forward.\u001b[39;00m\n\u001b[1;32m   <a href='file:///home/tidrael/anaconda3/envs/pytorch/lib/python3.9/site-packages/torch/nn/modules/module.py?line=1107'>1108</a>\u001b[0m \u001b[39mif\u001b[39;00m \u001b[39mnot\u001b[39;00m (\u001b[39mself\u001b[39m\u001b[39m.\u001b[39m_backward_hooks \u001b[39mor\u001b[39;00m \u001b[39mself\u001b[39m\u001b[39m.\u001b[39m_forward_hooks \u001b[39mor\u001b[39;00m \u001b[39mself\u001b[39m\u001b[39m.\u001b[39m_forward_pre_hooks \u001b[39mor\u001b[39;00m _global_backward_hooks\n\u001b[1;32m   <a href='file:///home/tidrael/anaconda3/envs/pytorch/lib/python3.9/site-packages/torch/nn/modules/module.py?line=1108'>1109</a>\u001b[0m         \u001b[39mor\u001b[39;00m _global_forward_hooks \u001b[39mor\u001b[39;00m _global_forward_pre_hooks):\n\u001b[0;32m-> <a href='file:///home/tidrael/anaconda3/envs/pytorch/lib/python3.9/site-packages/torch/nn/modules/module.py?line=1109'>1110</a>\u001b[0m     \u001b[39mreturn\u001b[39;00m forward_call(\u001b[39m*\u001b[39;49m\u001b[39minput\u001b[39;49m, \u001b[39m*\u001b[39;49m\u001b[39m*\u001b[39;49mkwargs)\n\u001b[1;32m   <a href='file:///home/tidrael/anaconda3/envs/pytorch/lib/python3.9/site-packages/torch/nn/modules/module.py?line=1110'>1111</a>\u001b[0m \u001b[39m# Do not call functions when jit is used\u001b[39;00m\n\u001b[1;32m   <a href='file:///home/tidrael/anaconda3/envs/pytorch/lib/python3.9/site-packages/torch/nn/modules/module.py?line=1111'>1112</a>\u001b[0m full_backward_hooks, non_full_backward_hooks \u001b[39m=\u001b[39m [], []\n",
            "File \u001b[0;32m~/anaconda3/envs/pytorch/lib/python3.9/site-packages/torch/nn/modules/container.py:141\u001b[0m, in \u001b[0;36mSequential.forward\u001b[0;34m(self, input)\u001b[0m\n\u001b[1;32m    <a href='file:///home/tidrael/anaconda3/envs/pytorch/lib/python3.9/site-packages/torch/nn/modules/container.py?line=138'>139</a>\u001b[0m \u001b[39mdef\u001b[39;00m \u001b[39mforward\u001b[39m(\u001b[39mself\u001b[39m, \u001b[39minput\u001b[39m):\n\u001b[1;32m    <a href='file:///home/tidrael/anaconda3/envs/pytorch/lib/python3.9/site-packages/torch/nn/modules/container.py?line=139'>140</a>\u001b[0m     \u001b[39mfor\u001b[39;00m module \u001b[39min\u001b[39;00m \u001b[39mself\u001b[39m:\n\u001b[0;32m--> <a href='file:///home/tidrael/anaconda3/envs/pytorch/lib/python3.9/site-packages/torch/nn/modules/container.py?line=140'>141</a>\u001b[0m         \u001b[39minput\u001b[39m \u001b[39m=\u001b[39m module(\u001b[39minput\u001b[39;49m)\n\u001b[1;32m    <a href='file:///home/tidrael/anaconda3/envs/pytorch/lib/python3.9/site-packages/torch/nn/modules/container.py?line=141'>142</a>\u001b[0m     \u001b[39mreturn\u001b[39;00m \u001b[39minput\u001b[39m\n",
            "File \u001b[0;32m~/anaconda3/envs/pytorch/lib/python3.9/site-packages/torch/nn/modules/module.py:1110\u001b[0m, in \u001b[0;36mModule._call_impl\u001b[0;34m(self, *input, **kwargs)\u001b[0m\n\u001b[1;32m   <a href='file:///home/tidrael/anaconda3/envs/pytorch/lib/python3.9/site-packages/torch/nn/modules/module.py?line=1105'>1106</a>\u001b[0m \u001b[39m# If we don't have any hooks, we want to skip the rest of the logic in\u001b[39;00m\n\u001b[1;32m   <a href='file:///home/tidrael/anaconda3/envs/pytorch/lib/python3.9/site-packages/torch/nn/modules/module.py?line=1106'>1107</a>\u001b[0m \u001b[39m# this function, and just call forward.\u001b[39;00m\n\u001b[1;32m   <a href='file:///home/tidrael/anaconda3/envs/pytorch/lib/python3.9/site-packages/torch/nn/modules/module.py?line=1107'>1108</a>\u001b[0m \u001b[39mif\u001b[39;00m \u001b[39mnot\u001b[39;00m (\u001b[39mself\u001b[39m\u001b[39m.\u001b[39m_backward_hooks \u001b[39mor\u001b[39;00m \u001b[39mself\u001b[39m\u001b[39m.\u001b[39m_forward_hooks \u001b[39mor\u001b[39;00m \u001b[39mself\u001b[39m\u001b[39m.\u001b[39m_forward_pre_hooks \u001b[39mor\u001b[39;00m _global_backward_hooks\n\u001b[1;32m   <a href='file:///home/tidrael/anaconda3/envs/pytorch/lib/python3.9/site-packages/torch/nn/modules/module.py?line=1108'>1109</a>\u001b[0m         \u001b[39mor\u001b[39;00m _global_forward_hooks \u001b[39mor\u001b[39;00m _global_forward_pre_hooks):\n\u001b[0;32m-> <a href='file:///home/tidrael/anaconda3/envs/pytorch/lib/python3.9/site-packages/torch/nn/modules/module.py?line=1109'>1110</a>\u001b[0m     \u001b[39mreturn\u001b[39;00m forward_call(\u001b[39m*\u001b[39;49m\u001b[39minput\u001b[39;49m, \u001b[39m*\u001b[39;49m\u001b[39m*\u001b[39;49mkwargs)\n\u001b[1;32m   <a href='file:///home/tidrael/anaconda3/envs/pytorch/lib/python3.9/site-packages/torch/nn/modules/module.py?line=1110'>1111</a>\u001b[0m \u001b[39m# Do not call functions when jit is used\u001b[39;00m\n\u001b[1;32m   <a href='file:///home/tidrael/anaconda3/envs/pytorch/lib/python3.9/site-packages/torch/nn/modules/module.py?line=1111'>1112</a>\u001b[0m full_backward_hooks, non_full_backward_hooks \u001b[39m=\u001b[39m [], []\n",
            "File \u001b[0;32m~/anaconda3/envs/pytorch/lib/python3.9/site-packages/torchvision/models/resnet.py:144\u001b[0m, in \u001b[0;36mBottleneck.forward\u001b[0;34m(self, x)\u001b[0m\n\u001b[1;32m    <a href='file:///home/tidrael/anaconda3/envs/pytorch/lib/python3.9/site-packages/torchvision/models/resnet.py?line=140'>141</a>\u001b[0m \u001b[39mdef\u001b[39;00m \u001b[39mforward\u001b[39m(\u001b[39mself\u001b[39m, x: Tensor) \u001b[39m-\u001b[39m\u001b[39m>\u001b[39m Tensor:\n\u001b[1;32m    <a href='file:///home/tidrael/anaconda3/envs/pytorch/lib/python3.9/site-packages/torchvision/models/resnet.py?line=141'>142</a>\u001b[0m     identity \u001b[39m=\u001b[39m x\n\u001b[0;32m--> <a href='file:///home/tidrael/anaconda3/envs/pytorch/lib/python3.9/site-packages/torchvision/models/resnet.py?line=143'>144</a>\u001b[0m     out \u001b[39m=\u001b[39m \u001b[39mself\u001b[39;49m\u001b[39m.\u001b[39;49mconv1(x)\n\u001b[1;32m    <a href='file:///home/tidrael/anaconda3/envs/pytorch/lib/python3.9/site-packages/torchvision/models/resnet.py?line=144'>145</a>\u001b[0m     out \u001b[39m=\u001b[39m \u001b[39mself\u001b[39m\u001b[39m.\u001b[39mbn1(out)\n\u001b[1;32m    <a href='file:///home/tidrael/anaconda3/envs/pytorch/lib/python3.9/site-packages/torchvision/models/resnet.py?line=145'>146</a>\u001b[0m     out \u001b[39m=\u001b[39m \u001b[39mself\u001b[39m\u001b[39m.\u001b[39mrelu(out)\n",
            "File \u001b[0;32m~/anaconda3/envs/pytorch/lib/python3.9/site-packages/torch/nn/modules/module.py:1110\u001b[0m, in \u001b[0;36mModule._call_impl\u001b[0;34m(self, *input, **kwargs)\u001b[0m\n\u001b[1;32m   <a href='file:///home/tidrael/anaconda3/envs/pytorch/lib/python3.9/site-packages/torch/nn/modules/module.py?line=1105'>1106</a>\u001b[0m \u001b[39m# If we don't have any hooks, we want to skip the rest of the logic in\u001b[39;00m\n\u001b[1;32m   <a href='file:///home/tidrael/anaconda3/envs/pytorch/lib/python3.9/site-packages/torch/nn/modules/module.py?line=1106'>1107</a>\u001b[0m \u001b[39m# this function, and just call forward.\u001b[39;00m\n\u001b[1;32m   <a href='file:///home/tidrael/anaconda3/envs/pytorch/lib/python3.9/site-packages/torch/nn/modules/module.py?line=1107'>1108</a>\u001b[0m \u001b[39mif\u001b[39;00m \u001b[39mnot\u001b[39;00m (\u001b[39mself\u001b[39m\u001b[39m.\u001b[39m_backward_hooks \u001b[39mor\u001b[39;00m \u001b[39mself\u001b[39m\u001b[39m.\u001b[39m_forward_hooks \u001b[39mor\u001b[39;00m \u001b[39mself\u001b[39m\u001b[39m.\u001b[39m_forward_pre_hooks \u001b[39mor\u001b[39;00m _global_backward_hooks\n\u001b[1;32m   <a href='file:///home/tidrael/anaconda3/envs/pytorch/lib/python3.9/site-packages/torch/nn/modules/module.py?line=1108'>1109</a>\u001b[0m         \u001b[39mor\u001b[39;00m _global_forward_hooks \u001b[39mor\u001b[39;00m _global_forward_pre_hooks):\n\u001b[0;32m-> <a href='file:///home/tidrael/anaconda3/envs/pytorch/lib/python3.9/site-packages/torch/nn/modules/module.py?line=1109'>1110</a>\u001b[0m     \u001b[39mreturn\u001b[39;00m forward_call(\u001b[39m*\u001b[39;49m\u001b[39minput\u001b[39;49m, \u001b[39m*\u001b[39;49m\u001b[39m*\u001b[39;49mkwargs)\n\u001b[1;32m   <a href='file:///home/tidrael/anaconda3/envs/pytorch/lib/python3.9/site-packages/torch/nn/modules/module.py?line=1110'>1111</a>\u001b[0m \u001b[39m# Do not call functions when jit is used\u001b[39;00m\n\u001b[1;32m   <a href='file:///home/tidrael/anaconda3/envs/pytorch/lib/python3.9/site-packages/torch/nn/modules/module.py?line=1111'>1112</a>\u001b[0m full_backward_hooks, non_full_backward_hooks \u001b[39m=\u001b[39m [], []\n",
            "File \u001b[0;32m~/anaconda3/envs/pytorch/lib/python3.9/site-packages/torch/nn/modules/conv.py:447\u001b[0m, in \u001b[0;36mConv2d.forward\u001b[0;34m(self, input)\u001b[0m\n\u001b[1;32m    <a href='file:///home/tidrael/anaconda3/envs/pytorch/lib/python3.9/site-packages/torch/nn/modules/conv.py?line=445'>446</a>\u001b[0m \u001b[39mdef\u001b[39;00m \u001b[39mforward\u001b[39m(\u001b[39mself\u001b[39m, \u001b[39minput\u001b[39m: Tensor) \u001b[39m-\u001b[39m\u001b[39m>\u001b[39m Tensor:\n\u001b[0;32m--> <a href='file:///home/tidrael/anaconda3/envs/pytorch/lib/python3.9/site-packages/torch/nn/modules/conv.py?line=446'>447</a>\u001b[0m     \u001b[39mreturn\u001b[39;00m \u001b[39mself\u001b[39;49m\u001b[39m.\u001b[39;49m_conv_forward(\u001b[39minput\u001b[39;49m, \u001b[39mself\u001b[39;49m\u001b[39m.\u001b[39;49mweight, \u001b[39mself\u001b[39;49m\u001b[39m.\u001b[39;49mbias)\n",
            "File \u001b[0;32m~/anaconda3/envs/pytorch/lib/python3.9/site-packages/torch/nn/modules/conv.py:443\u001b[0m, in \u001b[0;36mConv2d._conv_forward\u001b[0;34m(self, input, weight, bias)\u001b[0m\n\u001b[1;32m    <a href='file:///home/tidrael/anaconda3/envs/pytorch/lib/python3.9/site-packages/torch/nn/modules/conv.py?line=438'>439</a>\u001b[0m \u001b[39mif\u001b[39;00m \u001b[39mself\u001b[39m\u001b[39m.\u001b[39mpadding_mode \u001b[39m!=\u001b[39m \u001b[39m'\u001b[39m\u001b[39mzeros\u001b[39m\u001b[39m'\u001b[39m:\n\u001b[1;32m    <a href='file:///home/tidrael/anaconda3/envs/pytorch/lib/python3.9/site-packages/torch/nn/modules/conv.py?line=439'>440</a>\u001b[0m     \u001b[39mreturn\u001b[39;00m F\u001b[39m.\u001b[39mconv2d(F\u001b[39m.\u001b[39mpad(\u001b[39minput\u001b[39m, \u001b[39mself\u001b[39m\u001b[39m.\u001b[39m_reversed_padding_repeated_twice, mode\u001b[39m=\u001b[39m\u001b[39mself\u001b[39m\u001b[39m.\u001b[39mpadding_mode),\n\u001b[1;32m    <a href='file:///home/tidrael/anaconda3/envs/pytorch/lib/python3.9/site-packages/torch/nn/modules/conv.py?line=440'>441</a>\u001b[0m                     weight, bias, \u001b[39mself\u001b[39m\u001b[39m.\u001b[39mstride,\n\u001b[1;32m    <a href='file:///home/tidrael/anaconda3/envs/pytorch/lib/python3.9/site-packages/torch/nn/modules/conv.py?line=441'>442</a>\u001b[0m                     _pair(\u001b[39m0\u001b[39m), \u001b[39mself\u001b[39m\u001b[39m.\u001b[39mdilation, \u001b[39mself\u001b[39m\u001b[39m.\u001b[39mgroups)\n\u001b[0;32m--> <a href='file:///home/tidrael/anaconda3/envs/pytorch/lib/python3.9/site-packages/torch/nn/modules/conv.py?line=442'>443</a>\u001b[0m \u001b[39mreturn\u001b[39;00m F\u001b[39m.\u001b[39;49mconv2d(\u001b[39minput\u001b[39;49m, weight, bias, \u001b[39mself\u001b[39;49m\u001b[39m.\u001b[39;49mstride,\n\u001b[1;32m    <a href='file:///home/tidrael/anaconda3/envs/pytorch/lib/python3.9/site-packages/torch/nn/modules/conv.py?line=443'>444</a>\u001b[0m                 \u001b[39mself\u001b[39;49m\u001b[39m.\u001b[39;49mpadding, \u001b[39mself\u001b[39;49m\u001b[39m.\u001b[39;49mdilation, \u001b[39mself\u001b[39;49m\u001b[39m.\u001b[39;49mgroups)\n",
            "\u001b[0;31mRuntimeError\u001b[0m: CUDA out of memory. Tried to allocate 20.00 MiB (GPU 0; 4.00 GiB total capacity; 2.60 GiB already allocated; 0 bytes free; 2.70 GiB reserved in total by PyTorch) If reserved memory is >> allocated memory try setting max_split_size_mb to avoid fragmentation.  See documentation for Memory Management and PYTORCH_CUDA_ALLOC_CONF"
          ]
        }
      ],
      "source": [
        "for epoch in range(100):\n",
        "        \n",
        "    print(f\"Epoch [{epoch}/{epochs}]\\t\")\n",
        "    start_time = time.time()\n",
        "\n",
        "    model.train()\n",
        "    train_loss_epoch = train(dl, model, criterion, optimizer)\n",
        "\n",
        "    if nr == 0 and epoch < 10:\n",
        "        warmupscheduler.step()\n",
        "    if nr == 0 and epoch >= 10:\n",
        "        mainscheduler.step()\n",
        "    \n",
        "    lr = optimizer.param_groups[0][\"lr\"]\n",
        "\n",
        "    if nr == 0 and (epoch+1) % 50 == 0:\n",
        "        save_model(model, optimizer, mainscheduler, current_epoch,\"SimCLR_CIFAR10_RN50_P128_LR0P2_LWup10_Cos500_T0p5_B128_checkpoint_{}_260621.pt\")\n",
        "\n",
        "    model.eval()\n",
        "    with torch.no_grad():\n",
        "        val_loss_epoch = valid(vdl, model, criterion)\n",
        "\n",
        "    if nr == 0:\n",
        "        tr_loss.append(train_loss_epoch / len(dl))\n",
        "        val_loss.append(val_loss_epoch / len(vdl))\n",
        "        print(f\"Epoch [{epoch}/{epochs}]\\t Training Loss: {train_loss_epoch / len(dl)}\\t lr: {round(lr, 5)}\")\n",
        "        print(f\"Epoch [{epoch}/{epochs}]\\t Validation Loss: {val_loss_epoch / len(vdl)}\\t lr: {round(lr, 5)}\")\n",
        "        current_epoch += 1\n",
        "\n",
        "    dg.on_epoch_end()\n",
        "\n",
        "    time_taken = (time.time() - start_time)/60\n",
        "    print(f\"Epoch [{epoch}/{epochs}]\\t Time Taken: {time_taken} minutes\")\n",
        "\n",
        "    if (epoch+1)%10==0:\n",
        "        plot_features(model.pretrained, 10, 2048, 128) #, valimages)\n",
        "\n",
        "## end training\n",
        "save_model(model, optimizer, mainscheduler, current_epoch, \"SimCLR_CIFAR10_RN50_P128_LR0P2_LWup10_Cos500_T0p5_B128_checkpoint_{}_260621.pt\")"
      ]
    },
    {
      "cell_type": "code",
      "execution_count": null,
      "metadata": {},
      "outputs": [],
      "source": [
        "save_model(model, optimizer, mainscheduler, current_epoch, \"SimCLR_CIFAR10_RN50_P128_LR0P2_LWup10_Cos500_T0p5_B128_checkpoint_260621.pt\")"
      ]
    },
    {
      "cell_type": "code",
      "execution_count": null,
      "metadata": {
        "colab": {
          "base_uri": "https://localhost:8080/",
          "height": 265
        },
        "id": "UkqOUp1-pl_n",
        "outputId": "2b2db8c3-61a0-44b9-e474-60ed1ac3ae4d"
      },
      "outputs": [
        {
          "data": {
            "image/png": "[encoded data removed]",
            "text/plain": [
              "<Figure size 432x288 with 1 Axes>"
            ]
          },
          "metadata": {
            "needs_background": "light",
            "tags": []
          },
          "output_type": "display_data"
        }
      ],
      "source": [
        "plt.plot(tr_loss,'b-')\n",
        "plt.plot(val_loss,'r-')\n",
        "plt.legend(['t','v'])\n",
        "plt.show()"
      ]
    },
    {
      "cell_type": "markdown",
      "metadata": {
        "id": "Ejhbdm9Dpl_o"
      },
      "source": [
        "# Downstream"
      ]
    },
    {
      "cell_type": "markdown",
      "metadata": {
        "id": "dbbwWRpfpl_o"
      },
      "source": [
        "## Model"
      ]
    },
    {
      "cell_type": "code",
      "execution_count": null,
      "metadata": {
        "id": "oXrsm4AJpl_o"
      },
      "outputs": [],
      "source": [
        "dsmodel = DSModel(model, 10).to('cuda:0')"
      ]
    },
    {
      "cell_type": "code",
      "execution_count": null,
      "metadata": {
        "id": "jpfLwM3apl_p"
      },
      "outputs": [],
      "source": [
        "NUM_FRAMES = 16\n",
        "NUM_CLASSES = 10"
      ]
    },
    {
      "cell_type": "markdown",
      "metadata": {
        "id": "_yqAyDkz3yfJ"
      },
      "source": [
        "##### CIFAR 10"
      ]
    },
    {
      "cell_type": "code",
      "execution_count": null,
      "metadata": {
        "id": "-jZ5uHH33y73"
      },
      "outputs": [],
      "source": [
        "class DSDataGen(Dataset):\n",
        "    def __init__(self, phase, imgarr,labels,num_classes=NUM_CLASSES):\n",
        "        \n",
        "        self.phase = phase\n",
        "        self.num_classes = num_classes\n",
        "        self.imgarr = imgarr\n",
        "        self.labels = labels\n",
        "        \n",
        "        self.indices = list(range(self.imgarr.shape[0]))\n",
        "        \n",
        "        self.randomcrop = transforms.RandomResizedCrop(32,(0.8,1.0))\n",
        "    \n",
        "    def __len__(self):\n",
        "        return self.imgarr.shape[0]\n",
        "    \n",
        "    def __getitem__(self,idx):\n",
        "        \n",
        "        #DECLARE VARIABLES\n",
        "        \n",
        "        x = self.imgarr[idx]\n",
        "        \n",
        "        img = torch.from_numpy(x).float()\n",
        "            \n",
        "        #GET CLIP FRAMES\n",
        "        #for i in range(4):\n",
        "        label = self.labels[idx]\n",
        "\n",
        "        #AUGMENT FRAMES\n",
        "        if self.phase == 'train':\n",
        "            img  = self.randomcrop(img)\n",
        "\n",
        "        img = self.preprocess(img)\n",
        "        \n",
        "        return img, label\n",
        "    \n",
        "    def on_epoch_end(self):\n",
        "        idx = random.sample(population = list(range(self.__len__())),k = self.__len__())\n",
        "        self.imgarr = self.imgarr[idx]\n",
        "        self.labels = self.labels[idx]\n",
        "        \n",
        "    def preprocess(self,frame):\n",
        "        frame = frame / 255.0\n",
        "        frame = (frame-MEAN)/STD\n",
        "        \n",
        "        return frame\n",
        "    \n",
        "    "
      ]
    },
    {
      "cell_type": "markdown",
      "metadata": {
        "id": "eMU6_6ZH45eQ"
      },
      "source": [
        "##### DATALOADERS"
      ]
    },
    {
      "cell_type": "code",
      "execution_count": null,
      "metadata": {
        "id": "nRmCSHLGpl_p"
      },
      "outputs": [],
      "source": [
        "dg = DSDataGen('train', trimages,trlabels,\n",
        "               batch_size=1, num_classes=NUM_CLASSES)\n",
        "\n",
        "dl = DataLoader(dg,batch_size = 32, drop_last = True)"
      ]
    },
    {
      "cell_type": "code",
      "execution_count": null,
      "metadata": {
        "id": "QPpdzzROpl_p"
      },
      "outputs": [],
      "source": [
        "vdg = DSDataGen('valid', valimages, vallabels,\n",
        "               batch_size=1,num_classes=NUM_CLASSES)\n",
        "\n",
        "vdl = DataLoader(vdg,batch_size = 32, drop_last = True)"
      ]
    },
    {
      "cell_type": "markdown",
      "metadata": {},
      "source": [
        "## Main training"
      ]
    },
    {
      "cell_type": "code",
      "execution_count": null,
      "metadata": {
        "colab": {
          "base_uri": "https://localhost:8080/"
        },
        "id": "fyr2NMaRpl_q",
        "outputId": "0d7cd6e9-05fb-444f-c926-44771e5d3f42"
      },
      "outputs": [
        {
          "name": "stdout",
          "output_type": "stream",
          "text": [
            "Adjusting learning rate of group 0 to 1.0000e-02.\n"
          ]
        }
      ],
      "source": [
        "dsoptimizer = torch.optim.SGD([params for params in dsmodel.parameters() if params.requires_grad],lr = 0.01, momentum = 0.9)\n",
        "\n",
        "#dsoptimizer = torch.optim.Adam([params for params in dsmodel.parameters() if params.requires_grad],lr=1e-5)\n",
        "\n",
        "lr_scheduler = torch.optim.lr_scheduler.StepLR(dsoptimizer, step_size=1, gamma=0.98, last_epoch=-1, verbose = True) #CosineAnnealingWarmRestarts(dsoptimizer,5,eta_min = 1e-6,last_epoch = -1, verbose = True) "
      ]
    },
    {
      "cell_type": "code",
      "execution_count": null,
      "metadata": {
        "id": "Prr0RWkxpl_q"
      },
      "outputs": [],
      "source": [
        "loss_fn = nn.CrossEntropyLoss()"
      ]
    },
    {
      "cell_type": "code",
      "execution_count": null,
      "metadata": {
        "id": "LtLyVVd6pl_q"
      },
      "outputs": [],
      "source": [
        "tr_ep_loss = []\n",
        "tr_ep_acc = []\n",
        "tr_ep_auc = []\n",
        "val_ep_loss = []\n",
        "val_ep_acc = []\n",
        "val_ep_auc = []\n",
        "\n",
        "min_val_loss = 100.0\n",
        "\n",
        "batch_size = 1\n",
        "EPOCHS = 10\n",
        "num_cl = 10\n",
        "accumulation_steps = 1"
      ]
    },
    {
      "cell_type": "code",
      "execution_count": null,
      "metadata": {
        "colab": {
          "base_uri": "https://localhost:8080/"
        },
        "id": "hw2x1wXNpl_q",
        "outputId": "3d52272a-d015-4832-f944-a91f84874bf9",
        "scrolled": true
      },
      "outputs": [
        {
          "name": "stdout",
          "output_type": "stream",
          "text": [
            "=============== Epoch :  11 ===============\n",
            "ESTIMATING TRAINING METRICS.............\n",
            "TRAINING BINARY CROSSENTROPY LOSS:  0.4799806905925274\n",
            "TRAINING BINARY ACCURACY:  0.836875\n",
            "ESTIMATING VALIDATION METRICS.............\n",
            "VALIDATION BINARY CROSSENTROPY LOSS:  0.4514698210435036\n",
            "VALIDATION BINARY ACCURACY:  0.8412459935897436\n",
            "Adjusting learning rate of group 0 to 8.1707e-03.\n",
            "Time Taken : 0.73 minutes\n",
            "=============== Epoch :  12 ===============\n",
            "ESTIMATING TRAINING METRICS.............\n",
            "TRAINING BINARY CROSSENTROPY LOSS:  0.4740232384800911\n",
            "TRAINING BINARY ACCURACY:  0.8384\n",
            "ESTIMATING VALIDATION METRICS.............\n",
            "VALIDATION BINARY CROSSENTROPY LOSS:  0.43004642345775396\n",
            "VALIDATION BINARY ACCURACY:  0.8538661858974359\n",
            "Adjusting learning rate of group 0 to 8.0073e-03.\n",
            "Time Taken : 0.73 minutes\n",
            "=============== Epoch :  13 ===============\n",
            "ESTIMATING TRAINING METRICS.............\n",
            "TRAINING BINARY CROSSENTROPY LOSS:  0.4704592683672905\n",
            "TRAINING BINARY ACCURACY:  0.837875\n",
            "ESTIMATING VALIDATION METRICS.............\n",
            "VALIDATION BINARY CROSSENTROPY LOSS:  0.4351406796859243\n",
            "VALIDATION BINARY ACCURACY:  0.8479567307692307\n",
            "Adjusting learning rate of group 0 to 7.8472e-03.\n",
            "Time Taken : 0.73 minutes\n",
            "=============== Epoch :  14 ===============\n",
            "ESTIMATING TRAINING METRICS.............\n",
            "TRAINING BINARY CROSSENTROPY LOSS:  0.46557275062203407\n",
            "TRAINING BINARY ACCURACY:  0.83995\n",
            "ESTIMATING VALIDATION METRICS.............\n",
            "VALIDATION BINARY CROSSENTROPY LOSS:  0.42252223836019254\n",
            "VALIDATION BINARY ACCURACY:  0.852363782051282\n",
            "Adjusting learning rate of group 0 to 7.6902e-03.\n",
            "Time Taken : 0.72 minutes\n",
            "=============== Epoch :  15 ===============\n",
            "ESTIMATING TRAINING METRICS.............\n",
            "TRAINING BINARY CROSSENTROPY LOSS:  0.45863282243609427\n",
            "TRAINING BINARY ACCURACY:  0.841625\n",
            "ESTIMATING VALIDATION METRICS.............\n",
            "VALIDATION BINARY CROSSENTROPY LOSS:  0.41731273144101483\n",
            "VALIDATION BINARY ACCURACY:  0.8542668269230769\n",
            "Adjusting learning rate of group 0 to 7.5364e-03.\n",
            "Saving model...\n",
            "Time Taken : 0.73 minutes\n",
            "=============== Epoch :  16 ===============\n",
            "ESTIMATING TRAINING METRICS.............\n",
            "TRAINING BINARY CROSSENTROPY LOSS:  0.46000512475371363\n",
            "TRAINING BINARY ACCURACY:  0.8413\n",
            "ESTIMATING VALIDATION METRICS.............\n",
            "VALIDATION BINARY CROSSENTROPY LOSS:  0.4178429579553314\n",
            "VALIDATION BINARY ACCURACY:  0.8555689102564102\n",
            "Adjusting learning rate of group 0 to 7.3857e-03.\n",
            "Time Taken : 0.72 minutes\n",
            "=============== Epoch :  17 ===============\n",
            "ESTIMATING TRAINING METRICS.............\n",
            "TRAINING BINARY CROSSENTROPY LOSS:  0.4550027241945267\n",
            "TRAINING BINARY ACCURACY:  0.84485\n",
            "ESTIMATING VALIDATION METRICS.............\n",
            "VALIDATION BINARY CROSSENTROPY LOSS:  0.42400735633400005\n",
            "VALIDATION BINARY ACCURACY:  0.8527644230769231\n",
            "Adjusting learning rate of group 0 to 7.2380e-03.\n",
            "Time Taken : 0.72 minutes\n",
            "=============== Epoch :  18 ===============\n",
            "ESTIMATING TRAINING METRICS.............\n",
            "TRAINING BINARY CROSSENTROPY LOSS:  0.4518253603339195\n",
            "TRAINING BINARY ACCURACY:  0.844125\n",
            "ESTIMATING VALIDATION METRICS.............\n",
            "VALIDATION BINARY CROSSENTROPY LOSS:  0.41858560582384086\n",
            "VALIDATION BINARY ACCURACY:  0.8552684294871795\n",
            "Adjusting learning rate of group 0 to 7.0932e-03.\n",
            "Time Taken : 0.72 minutes\n",
            "=============== Epoch :  19 ===============\n",
            "ESTIMATING TRAINING METRICS.............\n",
            "TRAINING BINARY CROSSENTROPY LOSS:  0.4498982087671757\n",
            "TRAINING BINARY ACCURACY:  0.843225\n",
            "ESTIMATING VALIDATION METRICS.............\n",
            "VALIDATION BINARY CROSSENTROPY LOSS:  0.438436543282408\n",
            "VALIDATION BINARY ACCURACY:  0.8456530448717948\n",
            "Adjusting learning rate of group 0 to 6.9514e-03.\n",
            "Time Taken : 0.72 minutes\n",
            "=============== Epoch :  20 ===============\n",
            "ESTIMATING TRAINING METRICS.............\n",
            "TRAINING BINARY CROSSENTROPY LOSS:  0.44645182188153265\n",
            "TRAINING BINARY ACCURACY:  0.8465\n",
            "ESTIMATING VALIDATION METRICS.............\n",
            "VALIDATION BINARY CROSSENTROPY LOSS:  0.4225276398162047\n",
            "VALIDATION BINARY ACCURACY:  0.8532652243589743\n",
            "Adjusting learning rate of group 0 to 6.8123e-03.\n",
            "Time Taken : 0.72 minutes\n"
          ]
        }
      ],
      "source": [
        "for epoch in range(20):\n",
        "    \n",
        "    stime = time.time()\n",
        "    print(\"=============== Epoch : %3d ===============\"%(epoch+1))\n",
        "    \n",
        "    loss_sublist = np.array([])\n",
        "    acc_sublist = np.array([])\n",
        "    \n",
        "    #iter_num = 0\n",
        "    dsmodel.train()\n",
        "    \n",
        "    dsoptimizer.zero_grad()\n",
        "    \n",
        "    for x,y in dl:\n",
        "        x = x.squeeze().to(device = 'cuda:0', dtype = torch.float)\n",
        "        y = y.to(device = 'cuda:0')\n",
        "        \n",
        "        z = dsmodel(x)\n",
        "        \n",
        "        dsoptimizer.zero_grad()\n",
        "        \n",
        "        tr_loss = loss_fn(z,y) #/accumulation_steps #y.to(dtype=torch.float), z)\n",
        "        tr_loss.backward()\n",
        "\n",
        "        preds = torch.exp(z.cpu().data)/torch.sum(torch.exp(z.cpu().data))\n",
        "        \n",
        "        #if (iter_num+1)%accumulation_steps==0:\n",
        "        dsoptimizer.step()\n",
        "        #dsoptimizer.zero_grad()\n",
        "        \n",
        "        loss_sublist = np.append(loss_sublist, tr_loss.cpu().data)\n",
        "        acc_sublist = np.append(acc_sublist,np.array(np.argmax(preds,axis=1)==y.cpu().data.view(-1)).astype('int'),axis=0)\n",
        "        \n",
        "        #iter_num+=1\n",
        "    \n",
        "    print('ESTIMATING TRAINING METRICS.............')\n",
        "    \n",
        "    print('TRAINING BINARY CROSSENTROPY LOSS: ',np.mean(loss_sublist)*accumulation_steps)\n",
        "    print('TRAINING BINARY ACCURACY: ',np.mean(acc_sublist))\n",
        "    #print('TRAINING AUC SCORE: ',roc_auc_score(gt,preds))\n",
        "    \n",
        "    tr_ep_loss.append(np.mean(loss_sublist))\n",
        "    tr_ep_acc.append(np.mean(acc_sublist))\n",
        "    \n",
        "    #tr_ep_auc.append(roc_auc_score(gt, preds))\n",
        "    \n",
        "    \n",
        "    \n",
        "    print('ESTIMATING VALIDATION METRICS.............')\n",
        "    \n",
        "    dsmodel.eval()\n",
        "    \n",
        "    loss_sublist = np.array([])\n",
        "    acc_sublist = np.array([])\n",
        "    \n",
        "    with torch.no_grad():\n",
        "        for x,y in vdl:\n",
        "            x = x.squeeze().to(device = 'cuda:0', dtype = torch.float)\n",
        "            y = y.to(device = 'cuda:0')\n",
        "            z = dsmodel(x)\n",
        "\n",
        "            val_loss = loss_fn(z,y)\n",
        "\n",
        "            preds = torch.exp(z.cpu().data)/torch.sum(torch.exp(z.cpu().data))\n",
        "\n",
        "            loss_sublist = np.append(loss_sublist, val_loss.cpu().data)\n",
        "            acc_sublist = np.append(acc_sublist,np.array(np.argmax(preds,axis=1)==y.cpu().data.view(-1)).astype('int'),axis=0)\n",
        "            \n",
        "\n",
        "    print('VALIDATION BINARY CROSSENTROPY LOSS: ',np.mean(loss_sublist))\n",
        "    print('VALIDATION BINARY ACCURACY: ',np.mean(acc_sublist))\n",
        "    #print('VALIDATION AUC SCORE: ',roc_auc_score(gt, preds))\n",
        "    \n",
        "    val_ep_loss.append(np.mean(loss_sublist))\n",
        "    val_ep_acc.append(np.mean(acc_sublist))\n",
        "    \n",
        "    #val_ep_auc.append(roc_auc_score(gt, preds))\n",
        "    \n",
        "    lr_scheduler.step()\n",
        "    \n",
        "    dg.on_epoch_end()\n",
        "    \n",
        "    if np.mean(loss_sublist) <= min_val_loss:\n",
        "        min_val_loss = np.mean(loss_sublist) \n",
        "        print('Saving model...')\n",
        "        torch.save({'model_state_dict': dsmodel.state_dict(),\n",
        "                'optimizer_state_dict': dsoptimizer.state_dict()}, \n",
        "               '/content/saved_models/cifar10_rn50_p128_sgd0p01_decay0p98_all_lincls_300621.pt')\n",
        "    \n",
        "    print(\"Time Taken : %.2f minutes\"%((time.time()-stime)/60.0))"
      ]
    },
    {
      "cell_type": "markdown",
      "metadata": {},
      "source": [
        "## Visualization"
      ]
    },
    {
      "cell_type": "code",
      "execution_count": null,
      "metadata": {
        "colab": {
          "base_uri": "https://localhost:8080/",
          "height": 282
        },
        "id": "JvOAcf8Spl_s",
        "outputId": "9fef888d-8995-49df-e02b-52816b664e9f"
      },
      "outputs": [
        {
          "data": {
            "text/plain": [
              "<matplotlib.legend.Legend at 0x7f7b6bda9c50>"
            ]
          },
          "execution_count": 69,
          "metadata": {
            "tags": []
          },
          "output_type": "execute_result"
        },
        {
          "data": {
            "image/png": "[encoded data removed]",
            "text/plain": [
              "<Figure size 432x288 with 1 Axes>"
            ]
          },
          "metadata": {
            "needs_background": "light",
            "tags": []
          },
          "output_type": "display_data"
        }
      ],
      "source": [
        "plt.plot([t for t in tr_ep_acc])\n",
        "plt.plot([t for t in val_ep_acc])\n",
        "plt.legend(['train','valid'])"
      ]
    },
    {
      "cell_type": "code",
      "execution_count": null,
      "metadata": {
        "colab": {
          "base_uri": "https://localhost:8080/",
          "height": 282
        },
        "id": "XtjgIJbmpl_s",
        "outputId": "4a08f09d-65d7-45a3-be52-fb865762c984"
      },
      "outputs": [
        {
          "data": {
            "text/plain": [
              "<matplotlib.legend.Legend at 0x7f7b6bf10250>"
            ]
          },
          "execution_count": 70,
          "metadata": {
            "tags": []
          },
          "output_type": "execute_result"
        },
        {
          "data": {
            "image/png": "[encoded data removed]",
            "text/plain": [
              "<Figure size 432x288 with 1 Axes>"
            ]
          },
          "metadata": {
            "needs_background": "light",
            "tags": []
          },
          "output_type": "display_data"
        }
      ],
      "source": [
        "plt.plot(tr_ep_loss)\n",
        "plt.plot(val_ep_loss)\n",
        "plt.legend(['train','valid'])"
      ]
    },
    {
      "cell_type": "markdown",
      "metadata": {},
      "source": [
        "AUC"
      ]
    },
    {
      "cell_type": "code",
      "execution_count": null,
      "metadata": {
        "id": "3EafnbO9pl_s",
        "outputId": "e0eaeb53-06b8-44bd-9873-9f903836ea12"
      },
      "outputs": [
        {
          "data": {
            "text/plain": [
              "<matplotlib.legend.Legend at 0x7f3a30d74af0>"
            ]
          },
          "execution_count": 79,
          "metadata": {
            "tags": []
          },
          "output_type": "execute_result"
        },
        {
          "data": {
            "image/png": "[encoded data removed]",
            "text/plain": [
              "<Figure size 432x288 with 1 Axes>"
            ]
          },
          "metadata": {
            "tags": []
          },
          "output_type": "display_data"
        }
      ],
      "source": [
        "plt.plot([t for t in tr_ep_auc])\n",
        "plt.plot([t for t in val_ep_auc])\n",
        "plt.legend(['train','valid'])"
      ]
    },
    {
      "cell_type": "code",
      "execution_count": null,
      "metadata": {
        "id": "LvBasUGYQ6oZ"
      },
      "outputs": [],
      "source": [
        "tdg = DSDataGen('test', testimages, testlabels, num_classes=10)\n",
        "\n",
        "tdl = DataLoader(tdg, batch_size = 32, drop_last = True)\n",
        "\n",
        "dsmodel.eval()\n",
        "    \n",
        "loss_sublist = np.array([])\n",
        "acc_sublist = np.array([])\n",
        "\n",
        "with torch.no_grad():\n",
        "    for x,y in vdl:\n",
        "        x = x.squeeze().to(device = 'cuda:0', dtype = torch.float)\n",
        "        y = y.to(device = 'cuda:0')\n",
        "        z = dsmodel(x)\n",
        "\n",
        "        val_loss = loss_fn(z,y)\n",
        "\n",
        "        preds = torch.exp(z.cpu().data)/torch.sum(torch.exp(z.cpu().data))\n",
        "\n",
        "        loss_sublist = np.append(loss_sublist, val_loss.cpu().data)\n",
        "        acc_sublist = np.append(acc_sublist,np.array(np.argmax(preds,axis=1)==y.cpu().data.view(-1)).astype('int'),axis=0)\n",
        "\n",
        "print('TEST BINARY CROSSENTROPY LOSS: ',np.mean(loss_sublist))\n",
        "print('TEST BINARY ACCURACY: ',np.mean(acc_sublist))"
      ]
    },
    {
      "cell_type": "markdown",
      "metadata": {
        "id": "Pzwt5OU24G_8"
      },
      "source": []
    }
  ],
  "metadata": {
    "accelerator": "GPU",
    "colab": {
      "collapsed_sections": [
        "NwHbQkep1MLx",
        "uxVU4yN2fmNf",
        "ziLMBZNX5M38",
        "zB7FcvNU5TyH",
        "yS0S5_Qr5fKm",
        "K6kf2F-K5pw7",
        "6qoGDc-05wOG",
        "fhlUTwvc53jw",
        "1QF5TgaoUQgz",
        "C969RA6x3zKK"
      ],
      "name": "SImCLR cifar10.ipynb",
      "provenance": []
    },
    "interpreter": {
      "hash": "f44a392e09d1bb9477de132905dd7ad0f7bbaeeffcb9fda9d53bc480fa8090eb"
    },
    "kernelspec": {
      "display_name": "Python [conda env:root] *",
      "language": "python",
      "name": "python3"
    },
    "language_info": {
      "codemirror_mode": {
        "name": "ipython",
        "version": 3
      },
      "file_extension": ".py",
      "mimetype": "text/x-python",
      "name": "python",
      "nbconvert_exporter": "python",
      "pygments_lexer": "ipython3",
      "version": "3.9.12"
    },
    "toc": {
      "base_numbering": 1,
      "nav_menu": {
        "height": "625px",
        "width": "382px"
      },
      "number_sections": true,
      "sideBar": true,
      "skip_h1_title": false,
      "title_cell": "Table of Contents",
      "title_sidebar": "Contents",
      "toc_cell": false,
      "toc_position": {},
      "toc_section_display": true,
      "toc_window_display": false
    },
    "varInspector": {
      "cols": {
        "lenName": 16,
        "lenType": 16,
        "lenVar": 40
      },
      "kernels_config": {
        "python": {
          "delete_cmd_postfix": "",
          "delete_cmd_prefix": "del ",
          "library": "var_list.py",
          "varRefreshCmd": "print(var_dic_list())"
        },
        "r": {
          "delete_cmd_postfix": ") ",
          "delete_cmd_prefix": "rm(",
          "library": "var_list.r",
          "varRefreshCmd": "cat(var_dic_list()) "
        }
      },
      "types_to_exclude": [
        "module",
        "function",
        "builtin_function_or_method",
        "instance",
        "_Feature"
      ],
      "window_display": false
    },
    "widgets": {
      "application/vnd.jupyter.widget-state+json": {
        "159070707f784605a2336cffb647d02f": {
          "model_module": "@jupyter-widgets/controls",
          "model_name": "HTMLModel",
          "state": {
            "_dom_classes": [],
            "_model_module": "@jupyter-widgets/controls",
            "_model_module_version": "1.5.0",
            "_model_name": "HTMLModel",
            "_view_count": null,
            "_view_module": "@jupyter-widgets/controls",
            "_view_module_version": "1.5.0",
            "_view_name": "HTMLView",
            "description": "",
            "description_tooltip": null,
            "layout": "IPY_MODEL_6a7b6912ecb3418da2aa22ef34d9ae5a",
            "placeholder": "​",
            "style": "IPY_MODEL_f47647ab20454613b70c4f78c6175c7b",
            "value": " 97.8M/97.8M [46:13&lt;00:00, 37.0kB/s]"
          }
        },
        "1a700b2fc234400498581d2081c89153": {
          "model_module": "@jupyter-widgets/base",
          "model_name": "LayoutModel",
          "state": {
            "_model_module": "@jupyter-widgets/base",
            "_model_module_version": "1.2.0",
            "_model_name": "LayoutModel",
            "_view_count": null,
            "_view_module": "@jupyter-widgets/base",
            "_view_module_version": "1.2.0",
            "_view_name": "LayoutView",
            "align_content": null,
            "align_items": null,
            "align_self": null,
            "border": null,
            "bottom": null,
            "display": null,
            "flex": null,
            "flex_flow": null,
            "grid_area": null,
            "grid_auto_columns": null,
            "grid_auto_flow": null,
            "grid_auto_rows": null,
            "grid_column": null,
            "grid_gap": null,
            "grid_row": null,
            "grid_template_areas": null,
            "grid_template_columns": null,
            "grid_template_rows": null,
            "height": null,
            "justify_content": null,
            "justify_items": null,
            "left": null,
            "margin": null,
            "max_height": null,
            "max_width": null,
            "min_height": null,
            "min_width": null,
            "object_fit": null,
            "object_position": null,
            "order": null,
            "overflow": null,
            "overflow_x": null,
            "overflow_y": null,
            "padding": null,
            "right": null,
            "top": null,
            "visibility": null,
            "width": null
          }
        },
        "6213f8efc85b41b8b9c23375c416057e": {
          "model_module": "@jupyter-widgets/controls",
          "model_name": "HBoxModel",
          "state": {
            "_dom_classes": [],
            "_model_module": "@jupyter-widgets/controls",
            "_model_module_version": "1.5.0",
            "_model_name": "HBoxModel",
            "_view_count": null,
            "_view_module": "@jupyter-widgets/controls",
            "_view_module_version": "1.5.0",
            "_view_name": "HBoxView",
            "box_style": "",
            "children": [
              "IPY_MODEL_67a457df909442e58782494206d86974",
              "IPY_MODEL_159070707f784605a2336cffb647d02f"
            ],
            "layout": "IPY_MODEL_1a700b2fc234400498581d2081c89153"
          }
        },
        "67a457df909442e58782494206d86974": {
          "model_module": "@jupyter-widgets/controls",
          "model_name": "FloatProgressModel",
          "state": {
            "_dom_classes": [],
            "_model_module": "@jupyter-widgets/controls",
            "_model_module_version": "1.5.0",
            "_model_name": "FloatProgressModel",
            "_view_count": null,
            "_view_module": "@jupyter-widgets/controls",
            "_view_module_version": "1.5.0",
            "_view_name": "ProgressView",
            "bar_style": "success",
            "description": "100%",
            "description_tooltip": null,
            "layout": "IPY_MODEL_c3777ffbc9f941e5a52e11a7e2a59ec0",
            "max": 102530333,
            "min": 0,
            "orientation": "horizontal",
            "style": "IPY_MODEL_a38a8031fa3f45feaa930bc12f2efc28",
            "value": 102530333
          }
        },
        "6a7b6912ecb3418da2aa22ef34d9ae5a": {
          "model_module": "@jupyter-widgets/base",
          "model_name": "LayoutModel",
          "state": {
            "_model_module": "@jupyter-widgets/base",
            "_model_module_version": "1.2.0",
            "_model_name": "LayoutModel",
            "_view_count": null,
            "_view_module": "@jupyter-widgets/base",
            "_view_module_version": "1.2.0",
            "_view_name": "LayoutView",
            "align_content": null,
            "align_items": null,
            "align_self": null,
            "border": null,
            "bottom": null,
            "display": null,
            "flex": null,
            "flex_flow": null,
            "grid_area": null,
            "grid_auto_columns": null,
            "grid_auto_flow": null,
            "grid_auto_rows": null,
            "grid_column": null,
            "grid_gap": null,
            "grid_row": null,
            "grid_template_areas": null,
            "grid_template_columns": null,
            "grid_template_rows": null,
            "height": null,
            "justify_content": null,
            "justify_items": null,
            "left": null,
            "margin": null,
            "max_height": null,
            "max_width": null,
            "min_height": null,
            "min_width": null,
            "object_fit": null,
            "object_position": null,
            "order": null,
            "overflow": null,
            "overflow_x": null,
            "overflow_y": null,
            "padding": null,
            "right": null,
            "top": null,
            "visibility": null,
            "width": null
          }
        },
        "a38a8031fa3f45feaa930bc12f2efc28": {
          "model_module": "@jupyter-widgets/controls",
          "model_name": "ProgressStyleModel",
          "state": {
            "_model_module": "@jupyter-widgets/controls",
            "_model_module_version": "1.5.0",
            "_model_name": "ProgressStyleModel",
            "_view_count": null,
            "_view_module": "@jupyter-widgets/base",
            "_view_module_version": "1.2.0",
            "_view_name": "StyleView",
            "bar_color": null,
            "description_width": "initial"
          }
        },
        "c3777ffbc9f941e5a52e11a7e2a59ec0": {
          "model_module": "@jupyter-widgets/base",
          "model_name": "LayoutModel",
          "state": {
            "_model_module": "@jupyter-widgets/base",
            "_model_module_version": "1.2.0",
            "_model_name": "LayoutModel",
            "_view_count": null,
            "_view_module": "@jupyter-widgets/base",
            "_view_module_version": "1.2.0",
            "_view_name": "LayoutView",
            "align_content": null,
            "align_items": null,
            "align_self": null,
            "border": null,
            "bottom": null,
            "display": null,
            "flex": null,
            "flex_flow": null,
            "grid_area": null,
            "grid_auto_columns": null,
            "grid_auto_flow": null,
            "grid_auto_rows": null,
            "grid_column": null,
            "grid_gap": null,
            "grid_row": null,
            "grid_template_areas": null,
            "grid_template_columns": null,
            "grid_template_rows": null,
            "height": null,
            "justify_content": null,
            "justify_items": null,
            "left": null,
            "margin": null,
            "max_height": null,
            "max_width": null,
            "min_height": null,
            "min_width": null,
            "object_fit": null,
            "object_position": null,
            "order": null,
            "overflow": null,
            "overflow_x": null,
            "overflow_y": null,
            "padding": null,
            "right": null,
            "top": null,
            "visibility": null,
            "width": null
          }
        },
        "f47647ab20454613b70c4f78c6175c7b": {
          "model_module": "@jupyter-widgets/controls",
          "model_name": "DescriptionStyleModel",
          "state": {
            "_model_module": "@jupyter-widgets/controls",
            "_model_module_version": "1.5.0",
            "_model_name": "DescriptionStyleModel",
            "_view_count": null,
            "_view_module": "@jupyter-widgets/base",
            "_view_module_version": "1.2.0",
            "_view_name": "StyleView",
            "description_width": ""
          }
        }
      }
    }
  },
  "nbformat": 4,
  "nbformat_minor": 0
}
